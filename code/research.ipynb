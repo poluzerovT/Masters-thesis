{
 "cells": [
  {
   "cell_type": "code",
   "execution_count": 1,
   "id": "237721cd-ead9-489c-a435-8ef3a1df6973",
   "metadata": {},
   "outputs": [],
   "source": [
    "import numpy as np\n",
    "import pandas as pd\n",
    "import matplotlib.pyplot as plt\n",
    "import plotly.express as px\n",
    "import scipy.optimize as opt\n",
    "import datetime as dt\n",
    "import requests\n",
    "import json\n",
    "import os"
   ]
  },
  {
   "cell_type": "code",
   "execution_count": 2,
   "id": "e1e3e986",
   "metadata": {},
   "outputs": [],
   "source": [
    "pd.set_option('display.max_rows', None)\n",
    "# pd.set_option('display.max_columns', 500)"
   ]
  },
  {
   "cell_type": "markdown",
   "id": "d255c51b",
   "metadata": {},
   "source": [
    "# Prepare data"
   ]
  },
  {
   "cell_type": "code",
   "execution_count": 3,
   "id": "816cccc1",
   "metadata": {},
   "outputs": [],
   "source": [
    "def get_100_candles(ticker: str, tf: str, timestamp_ms_from: int):\n",
    "    params = {\n",
    "        'instId': ticker,\n",
    "        'bar': tf,\n",
    "        'after': timestamp_ms_from,\n",
    "    }\n",
    "    responce = requests.get('https://www.okx.com/api/v5/market/history-mark-price-candles', params)\n",
    "    if not responce.ok:\n",
    "        print('Bad request', responce.text)\n",
    "        return\n",
    "    candles = []\n",
    "    for cs in json.loads(responce.text)['data']:\n",
    "        candle = {\n",
    "            'dt': dt.datetime.fromtimestamp(int(cs[0]) // 1000),\n",
    "            'o': float(cs[1]),\n",
    "            'h': float(cs[2]),\n",
    "            'l': float(cs[3]),\n",
    "            'c': float(cs[4]),\n",
    "        }\n",
    "        candles.append(candle)\n",
    "    return candles"
   ]
  },
  {
   "cell_type": "code",
   "execution_count": 4,
   "id": "7523387b",
   "metadata": {},
   "outputs": [],
   "source": [
    "def get_timestamp_ms_range(from_date: dt.datetime, till_date: dt.datetime, delta: dt.timedelta):\n",
    "    ts_range = []\n",
    "    t = till_date\n",
    "    while t > from_date:\n",
    "        timestamp_ms = int(t.timestamp() * 1000)\n",
    "        ts_range.append(timestamp_ms)\n",
    "        t -= 100 * delta\n",
    "    return ts_range"
   ]
  },
  {
   "cell_type": "code",
   "execution_count": 5,
   "id": "22a8087c-c251-4b64-9ead-4695497fff06",
   "metadata": {},
   "outputs": [],
   "source": [
    "def get_candles_history(ticker: str, tf: str, from_date: dt.datetime, till_date: dt.datetime):\n",
    "    \"\"\"\n",
    "    Get candlestick history of a ticker from OKX \n",
    "    \"\"\"\n",
    "    tf_to_timedelta = {\n",
    "        '1D': dt.timedelta(days=1),\n",
    "        '4H': dt.timedelta(hours=4),\n",
    "    }\n",
    "    candles = []\n",
    "    ts_range = get_timestamp_ms_range(from_date, till_date, tf_to_timedelta[tf])\n",
    "    for ts_ms in ts_range:\n",
    "        new_candles = get_100_candles(ticker, tf, ts_ms)\n",
    "        if new_candles:\n",
    "            candles.extend(new_candles)\n",
    "    if len(candles) == 0:\n",
    "        return \n",
    "    df_candles = pd.DataFrame(candles).sort_values('dt')\n",
    "    return df_candles[df_candles['dt'].between(from_date, till_date)].drop_duplicates('dt').reset_index(drop=True)"
   ]
  },
  {
   "cell_type": "code",
   "execution_count": 6,
   "id": "2c78c3e8-f894-4399-b2d2-412d5df3f251",
   "metadata": {},
   "outputs": [
    {
     "name": "stdout",
     "output_type": "stream",
     "text": [
      "(736, 9)\n"
     ]
    }
   ],
   "source": [
    "DATA_DIR = 'data'\n",
    "DATA_FILENAME = 'crypto.csv'\n",
    "\n",
    "path_to_data = os.path.join(DATA_DIR, DATA_FILENAME)\n",
    "if not os.path.exists(path_to_data):\n",
    "    tickers = ['BTC-USDT', 'ETH-USDT', 'DOT-USDT', 'OKB-USDT', 'XRP-USDT',\n",
    "            'SOL-USDT', 'DOGE-TRX', 'TRX-USDT', 'LTC-USDT', 'TON-USDT',\n",
    "            ]\n",
    "    tf = '1D'\n",
    "    date_from = dt.datetime(2020, 1, 1)\n",
    "    date_till = dt.datetime(2025, 1, 1)\n",
    "    data = []\n",
    "    for ticker in tickers:\n",
    "        print(ticker)\n",
    "        df = get_candles_history(ticker, tf, date_from, date_till)\n",
    "        if df is not None:\n",
    "            ts = pd.Series(data=df['c'].values, index=df['dt'], name=ticker)\n",
    "            data.append(ts)\n",
    "    data = pd.concat(data, axis=1)\n",
    "    data.to_csv(path_to_data)\n",
    "\n",
    "data = pd.read_csv(path_to_data, index_col='dt', parse_dates=['dt'])\n",
    "data.dropna(inplace=True)\n",
    "print(data.shape)"
   ]
  },
  {
   "cell_type": "code",
   "execution_count": 7,
   "id": "6165e533",
   "metadata": {},
   "outputs": [
    {
     "data": {
      "text/plain": [
       "np.int64(0)"
      ]
     },
     "execution_count": 7,
     "metadata": {},
     "output_type": "execute_result"
    }
   ],
   "source": [
    "np.argmin(data.isna().sum(axis=1))"
   ]
  },
  {
   "cell_type": "markdown",
   "id": "a6f9d6d4",
   "metadata": {},
   "source": [
    "# Evaluate strategies"
   ]
  },
  {
   "cell_type": "code",
   "execution_count": 8,
   "id": "b2cb2fa1",
   "metadata": {},
   "outputs": [
    {
     "name": "stdout",
     "output_type": "stream",
     "text": [
      "[([0, 1, 2, 3, 4], [5]), ([0, 1, 2, 3, 4, 5], [6]), ([0, 1, 2, 3, 4, 5, 6], [7]), ([0, 1, 2, 3, 4, 5, 6, 7], [8]), ([0, 1, 2, 3, 4, 5, 6, 7, 8], [9]), ([0, 1, 2, 3, 4, 5, 6, 7, 8, 9], [10]), ([0, 1, 2, 3, 4, 5, 6, 7, 8, 9, 10], [11]), ([0, 1, 2, 3, 4, 5, 6, 7, 8, 9, 10, 11], [12]), ([0, 1, 2, 3, 4, 5, 6, 7, 8, 9, 10, 11, 12], [13])]\n"
     ]
    }
   ],
   "source": [
    "t = list(range(15))\n",
    "min_hist = 5\n",
    "PERIOD = 1\n",
    "size = len(t)\n",
    "\n",
    "res = []\n",
    "\n",
    "for i in range(min_hist, size - PERIOD):\n",
    "    res.append((t[:i], t[i:i + PERIOD]))\n",
    "print(res)"
   ]
  },
  {
   "cell_type": "code",
   "execution_count": 9,
   "id": "164e9d07",
   "metadata": {},
   "outputs": [],
   "source": [
    "def timeseries_split(df, period, min_hist):\n",
    "    size = df.shape[0]\n",
    "    for i in range(min_hist, size - period):\n",
    "        yield df.iloc[:i], df.iloc[i: i + period]"
   ]
  },
  {
   "cell_type": "code",
   "execution_count": 10,
   "id": "3007caaa",
   "metadata": {},
   "outputs": [],
   "source": [
    "def random_portfolio(df_hist):\n",
    "    n = df_hist.shape[1]\n",
    "    w = np.random.randn(n, 1)\n",
    "    w = w / w.sum()\n",
    "    return w\n",
    "\n",
    "def uniform_portfolio(df_hist):\n",
    "    n = df_hist.shape[1]\n",
    "    w = np.ones((n, 1)) / n\n",
    "    return w\n",
    "\n",
    "def single_asset_builder(arg):\n",
    "    def signle_asset_portfolio(df_hist):\n",
    "        n = df_hist.shape[1]\n",
    "        w = np.zeros((n, 1))\n",
    "        w[arg] = 1\n",
    "        return w\n",
    "    return signle_asset_portfolio\n",
    "\n",
    "def minvar_builder(max_history_leng):\n",
    "    def minvar_portfolio(df_hist):\n",
    "        n = df_hist.shape[1]\n",
    "        df_hist = df_hist.tail(max_history_leng)\n",
    "        ret = df_hist.diff(PERIOD) / df_hist.shift(PERIOD)\n",
    "        mu_hat = ret.mean(axis=0).values.reshape((-1, 1))\n",
    "        cov_hat = ret.cov().values\n",
    "        cov_hat_inv = np.linalg.inv(cov_hat)\n",
    "        e = np.ones((n, 1))\n",
    "        w = cov_hat_inv @ e / (e.T @ cov_hat_inv @ e)\n",
    "        return w\n",
    "    return minvar_portfolio\n",
    "\n",
    "def markowitz_builder(risk_tolerance, max_history_leng):\n",
    "    def markowitz_portfolio(df_hist):\n",
    "        if max_history_leng:\n",
    "            df_hist = df_hist.tail(max_history_leng)\n",
    "        ret = (df_hist.diff(PERIOD) / df_hist.shift(PERIOD)).dropna()\n",
    "        mu_hat = ret.mean(axis=0).values.reshape((-1, 1))\n",
    "        cov_hat = ret.cov().values\n",
    "        n = df_hist.shape[1]\n",
    "\n",
    "        def target(x):\n",
    "            x = x.reshape((-1, 1))\n",
    "            return x.T @ cov_hat @ x - risk_tolerance * x.T @ mu_hat + x.T @ x\n",
    "        \n",
    "        solution = opt.minimize(\n",
    "            fun=target,\n",
    "            x0=uniform_portfolio(df_hist).reshape(-1),\n",
    "            constraints=opt.LinearConstraint(np.ones((1, n)), lb=1, ub=1)\n",
    "            )\n",
    "        w = solution.x.reshape((n, 1))\n",
    "        return w\n",
    "    return markowitz_portfolio"
   ]
  },
  {
   "cell_type": "code",
   "execution_count": 11,
   "id": "09d49095",
   "metadata": {},
   "outputs": [
    {
     "data": {
      "text/plain": [
       "645"
      ]
     },
     "execution_count": 11,
     "metadata": {},
     "output_type": "execute_result"
    }
   ],
   "source": [
    "# число фолдов\n",
    "736 - 7 - 12*7"
   ]
  },
  {
   "cell_type": "code",
   "execution_count": 12,
   "id": "5cd85ad9",
   "metadata": {},
   "outputs": [
    {
     "name": "stdout",
     "output_type": "stream",
     "text": [
      "(736, 9)\n",
      " 105.1\n",
      "2022-12-27 19:00:00\n",
      "2024-12-31 19:00:00\n",
      "число фолдов 645\n"
     ]
    }
   ],
   "source": [
    "np.random.randn(27)\n",
    "\n",
    "PERIOD = 7\n",
    "min_hist = PERIOD * 12\n",
    "\n",
    "print(data.shape)\n",
    "print(f'{data.shape[0] / PERIOD: .1f}')\n",
    "print(data.index.min(), data.index.max(), sep='\\n')\n",
    "\n",
    "print('число фолдов', data.shape[0] - PERIOD - min_hist)\n",
    "\n",
    "strategies = {\n",
    "    # 'random': random_portfolio,\n",
    "    'uniform': uniform_portfolio,\n",
    "    'minvar_3w': minvar_builder(PERIOD * 3),\n",
    "    'minvar_6w': minvar_builder(PERIOD * 6),\n",
    "    'minvar_12w': minvar_builder(PERIOD * 12),\n",
    "    'markowitz_0_3w': markowitz_builder(0, PERIOD * 3),\n",
    "    'markowitz_1_3w': markowitz_builder(1, PERIOD * 3),\n",
    "    'markowitz_5_3w': markowitz_builder(5, PERIOD * 3),\n",
    "    'markowitz_10_3w': markowitz_builder(10, PERIOD * 3),\n",
    "}\n",
    "for i, c in enumerate(data.columns):\n",
    "    name = c.lower().split('-')[0]\n",
    "    strategies[name] = single_asset_builder(i)\n",
    "\n",
    "summary = {s: [] for s in strategies.keys()}\n",
    "\n",
    "for run_number, (train, test) in enumerate(timeseries_split(data, PERIOD, min_hist)):\n",
    "    n = train.shape[1]\n",
    "    dt = train.iloc[-1].name\n",
    "    open_price = train.iloc[-1].values.reshape((-1, 1))\n",
    "    close_price = test.values.T\n",
    "\n",
    "\n",
    "    for strategy_name, strategy_builder in strategies.items():\n",
    "        w = strategy_builder(train)\n",
    "\n",
    "        x = w / open_price\n",
    "        #assert np.isclose(w.sum(), 1), strategy_name\n",
    "        if not np.isclose(w.sum(), 1):\n",
    "            print(f'{strategy_name} not sum to 1')\n",
    "            continue\n",
    "\n",
    "        actual_return = (close_price - open_price) / open_price\n",
    "        pnl = x * actual_return * open_price\n",
    "\n",
    "        report = pd.DataFrame(index=train.columns)\n",
    "        # report['open'] = now\n",
    "        # report['close'] = future[:, -1, np.newaxis]\n",
    "        # report['diff'] = future[:, -1, np.newaxis] - now\n",
    "        # report['roi'] = actual_return[:, -1]\n",
    "        report['w'] = w\n",
    "        # report['x'] = x\n",
    "        # report['max_dropdown'] = actual_return.min(axis=1)\n",
    "        # report['pnl'] = pnl[:, -1, np.newaxis]\n",
    "\n",
    "        metrics = {\n",
    "            'dt': dt.strftime('%Y-%m-%d'),\n",
    "            'total_pnl': float(pnl[:, -1].sum()),\n",
    "            'total_max_dropdown': float(pnl.sum(axis=0).min()),\n",
    "        }\n",
    "        # metrics.update(report.to_dict())\n",
    "        # metrics['w'] = report['w'].to_dict()\n",
    "        metrics.update(report['w'].to_dict())\n",
    "        summary[strategy_name].append(metrics)\n",
    "        \n",
    "with open('log.json', 'w') as f:\n",
    "    f.write(json.dumps(summary, indent=4))"
   ]
  },
  {
   "cell_type": "code",
   "execution_count": 13,
   "id": "0fdac5b2",
   "metadata": {},
   "outputs": [
    {
     "data": {
      "text/html": [
       "<div>\n",
       "<style scoped>\n",
       "    .dataframe tbody tr th:only-of-type {\n",
       "        vertical-align: middle;\n",
       "    }\n",
       "\n",
       "    .dataframe tbody tr th {\n",
       "        vertical-align: top;\n",
       "    }\n",
       "\n",
       "    .dataframe thead th {\n",
       "        text-align: right;\n",
       "    }\n",
       "</style>\n",
       "<table border=\"1\" class=\"dataframe\">\n",
       "  <thead>\n",
       "    <tr style=\"text-align: right;\">\n",
       "      <th></th>\n",
       "      <th>uniform</th>\n",
       "      <th>minvar_3w</th>\n",
       "      <th>minvar_6w</th>\n",
       "      <th>minvar_12w</th>\n",
       "      <th>markowitz_0_3w</th>\n",
       "      <th>markowitz_1_3w</th>\n",
       "      <th>markowitz_5_3w</th>\n",
       "      <th>markowitz_10_3w</th>\n",
       "      <th>btc</th>\n",
       "      <th>eth</th>\n",
       "      <th>dot</th>\n",
       "      <th>okb</th>\n",
       "      <th>xrp</th>\n",
       "      <th>sol</th>\n",
       "      <th>trx</th>\n",
       "      <th>ltc</th>\n",
       "      <th>ton</th>\n",
       "    </tr>\n",
       "  </thead>\n",
       "  <tbody>\n",
       "    <tr>\n",
       "      <th>640</th>\n",
       "      <td>0.025554</td>\n",
       "      <td>0.062215</td>\n",
       "      <td>0.056221</td>\n",
       "      <td>0.115133</td>\n",
       "      <td>0.024862</td>\n",
       "      <td>0.021462</td>\n",
       "      <td>0.007850</td>\n",
       "      <td>-0.009168</td>\n",
       "      <td>-0.024863</td>\n",
       "      <td>-0.014402</td>\n",
       "      <td>0.001749</td>\n",
       "      <td>0.132301</td>\n",
       "      <td>-0.031297</td>\n",
       "      <td>-0.030230</td>\n",
       "      <td>0.064938</td>\n",
       "      <td>0.051306</td>\n",
       "      <td>0.080488</td>\n",
       "    </tr>\n",
       "    <tr>\n",
       "      <th>641</th>\n",
       "      <td>0.024824</td>\n",
       "      <td>0.091244</td>\n",
       "      <td>0.047269</td>\n",
       "      <td>0.139354</td>\n",
       "      <td>0.025026</td>\n",
       "      <td>0.020844</td>\n",
       "      <td>0.004102</td>\n",
       "      <td>-0.016827</td>\n",
       "      <td>-0.031560</td>\n",
       "      <td>-0.006595</td>\n",
       "      <td>-0.024435</td>\n",
       "      <td>0.189876</td>\n",
       "      <td>-0.037772</td>\n",
       "      <td>0.018749</td>\n",
       "      <td>0.043164</td>\n",
       "      <td>-0.009336</td>\n",
       "      <td>0.081324</td>\n",
       "    </tr>\n",
       "    <tr>\n",
       "      <th>642</th>\n",
       "      <td>0.035210</td>\n",
       "      <td>0.049676</td>\n",
       "      <td>0.033933</td>\n",
       "      <td>0.078466</td>\n",
       "      <td>0.035174</td>\n",
       "      <td>0.032358</td>\n",
       "      <td>0.021128</td>\n",
       "      <td>0.007080</td>\n",
       "      <td>-0.009079</td>\n",
       "      <td>0.021703</td>\n",
       "      <td>0.013931</td>\n",
       "      <td>0.110027</td>\n",
       "      <td>-0.024780</td>\n",
       "      <td>0.073090</td>\n",
       "      <td>0.067253</td>\n",
       "      <td>0.001392</td>\n",
       "      <td>0.063357</td>\n",
       "    </tr>\n",
       "    <tr>\n",
       "      <th>643</th>\n",
       "      <td>0.007550</td>\n",
       "      <td>0.100179</td>\n",
       "      <td>0.039109</td>\n",
       "      <td>0.064803</td>\n",
       "      <td>0.007753</td>\n",
       "      <td>0.006364</td>\n",
       "      <td>0.000807</td>\n",
       "      <td>-0.006163</td>\n",
       "      <td>-0.012196</td>\n",
       "      <td>0.014207</td>\n",
       "      <td>-0.036427</td>\n",
       "      <td>0.101556</td>\n",
       "      <td>-0.055569</td>\n",
       "      <td>0.035434</td>\n",
       "      <td>0.014137</td>\n",
       "      <td>-0.013042</td>\n",
       "      <td>0.019852</td>\n",
       "    </tr>\n",
       "    <tr>\n",
       "      <th>644</th>\n",
       "      <td>-0.030564</td>\n",
       "      <td>0.157435</td>\n",
       "      <td>0.026196</td>\n",
       "      <td>0.033673</td>\n",
       "      <td>-0.030368</td>\n",
       "      <td>-0.030331</td>\n",
       "      <td>-0.030198</td>\n",
       "      <td>-0.030027</td>\n",
       "      <td>-0.029430</td>\n",
       "      <td>-0.023101</td>\n",
       "      <td>-0.095452</td>\n",
       "      <td>0.045511</td>\n",
       "      <td>-0.083172</td>\n",
       "      <td>0.003134</td>\n",
       "      <td>-0.007005</td>\n",
       "      <td>-0.056069</td>\n",
       "      <td>-0.029493</td>\n",
       "    </tr>\n",
       "  </tbody>\n",
       "</table>\n",
       "</div>"
      ],
      "text/plain": [
       "      uniform  minvar_3w  minvar_6w  minvar_12w  markowitz_0_3w  \\\n",
       "640  0.025554   0.062215   0.056221    0.115133        0.024862   \n",
       "641  0.024824   0.091244   0.047269    0.139354        0.025026   \n",
       "642  0.035210   0.049676   0.033933    0.078466        0.035174   \n",
       "643  0.007550   0.100179   0.039109    0.064803        0.007753   \n",
       "644 -0.030564   0.157435   0.026196    0.033673       -0.030368   \n",
       "\n",
       "     markowitz_1_3w  markowitz_5_3w  markowitz_10_3w       btc       eth  \\\n",
       "640        0.021462        0.007850        -0.009168 -0.024863 -0.014402   \n",
       "641        0.020844        0.004102        -0.016827 -0.031560 -0.006595   \n",
       "642        0.032358        0.021128         0.007080 -0.009079  0.021703   \n",
       "643        0.006364        0.000807        -0.006163 -0.012196  0.014207   \n",
       "644       -0.030331       -0.030198        -0.030027 -0.029430 -0.023101   \n",
       "\n",
       "          dot       okb       xrp       sol       trx       ltc       ton  \n",
       "640  0.001749  0.132301 -0.031297 -0.030230  0.064938  0.051306  0.080488  \n",
       "641 -0.024435  0.189876 -0.037772  0.018749  0.043164 -0.009336  0.081324  \n",
       "642  0.013931  0.110027 -0.024780  0.073090  0.067253  0.001392  0.063357  \n",
       "643 -0.036427  0.101556 -0.055569  0.035434  0.014137 -0.013042  0.019852  \n",
       "644 -0.095452  0.045511 -0.083172  0.003134 -0.007005 -0.056069 -0.029493  "
      ]
     },
     "execution_count": 13,
     "metadata": {},
     "output_type": "execute_result"
    }
   ],
   "source": [
    "pnl = pd.concat([pd.DataFrame(v)['total_pnl'].rename(k) for k, v in summary.items()], axis=1)\n",
    "pnl.tail()"
   ]
  },
  {
   "cell_type": "code",
   "execution_count": 14,
   "id": "f931908d",
   "metadata": {},
   "outputs": [
    {
     "data": {
      "text/html": [
       "<div>\n",
       "<style scoped>\n",
       "    .dataframe tbody tr th:only-of-type {\n",
       "        vertical-align: middle;\n",
       "    }\n",
       "\n",
       "    .dataframe tbody tr th {\n",
       "        vertical-align: top;\n",
       "    }\n",
       "\n",
       "    .dataframe thead th {\n",
       "        text-align: right;\n",
       "    }\n",
       "</style>\n",
       "<table border=\"1\" class=\"dataframe\">\n",
       "  <thead>\n",
       "    <tr style=\"text-align: right;\">\n",
       "      <th></th>\n",
       "      <th>uniform</th>\n",
       "      <th>minvar_3w</th>\n",
       "      <th>minvar_6w</th>\n",
       "      <th>minvar_12w</th>\n",
       "      <th>markowitz_0_3w</th>\n",
       "      <th>markowitz_1_3w</th>\n",
       "      <th>markowitz_5_3w</th>\n",
       "      <th>markowitz_10_3w</th>\n",
       "      <th>btc</th>\n",
       "      <th>eth</th>\n",
       "      <th>dot</th>\n",
       "      <th>okb</th>\n",
       "      <th>xrp</th>\n",
       "      <th>sol</th>\n",
       "      <th>trx</th>\n",
       "      <th>ltc</th>\n",
       "      <th>ton</th>\n",
       "    </tr>\n",
       "  </thead>\n",
       "  <tbody>\n",
       "    <tr>\n",
       "      <th>count</th>\n",
       "      <td>645.000000</td>\n",
       "      <td>645.000000</td>\n",
       "      <td>645.000000</td>\n",
       "      <td>645.000000</td>\n",
       "      <td>645.000000</td>\n",
       "      <td>645.000000</td>\n",
       "      <td>645.000000</td>\n",
       "      <td>645.000000</td>\n",
       "      <td>645.000000</td>\n",
       "      <td>645.000000</td>\n",
       "      <td>645.000000</td>\n",
       "      <td>645.000000</td>\n",
       "      <td>645.000000</td>\n",
       "      <td>645.000000</td>\n",
       "      <td>645.000000</td>\n",
       "      <td>645.000000</td>\n",
       "      <td>645.000000</td>\n",
       "    </tr>\n",
       "    <tr>\n",
       "      <th>mean</th>\n",
       "      <td>0.014857</td>\n",
       "      <td>0.016973</td>\n",
       "      <td>0.006003</td>\n",
       "      <td>0.013499</td>\n",
       "      <td>0.014783</td>\n",
       "      <td>0.016842</td>\n",
       "      <td>0.025075</td>\n",
       "      <td>0.035368</td>\n",
       "      <td>0.015507</td>\n",
       "      <td>0.009990</td>\n",
       "      <td>0.007054</td>\n",
       "      <td>0.004319</td>\n",
       "      <td>0.025876</td>\n",
       "      <td>0.031755</td>\n",
       "      <td>0.017624</td>\n",
       "      <td>0.005589</td>\n",
       "      <td>0.015999</td>\n",
       "    </tr>\n",
       "    <tr>\n",
       "      <th>std</th>\n",
       "      <td>0.070434</td>\n",
       "      <td>0.123240</td>\n",
       "      <td>0.080005</td>\n",
       "      <td>0.069608</td>\n",
       "      <td>0.070162</td>\n",
       "      <td>0.074780</td>\n",
       "      <td>0.106822</td>\n",
       "      <td>0.160486</td>\n",
       "      <td>0.066427</td>\n",
       "      <td>0.078637</td>\n",
       "      <td>0.110244</td>\n",
       "      <td>0.076013</td>\n",
       "      <td>0.148157</td>\n",
       "      <td>0.128964</td>\n",
       "      <td>0.077493</td>\n",
       "      <td>0.091233</td>\n",
       "      <td>0.111794</td>\n",
       "    </tr>\n",
       "    <tr>\n",
       "      <th>min</th>\n",
       "      <td>-0.214001</td>\n",
       "      <td>-0.261414</td>\n",
       "      <td>-0.202731</td>\n",
       "      <td>-0.164017</td>\n",
       "      <td>-0.213860</td>\n",
       "      <td>-0.216754</td>\n",
       "      <td>-0.249555</td>\n",
       "      <td>-0.410588</td>\n",
       "      <td>-0.202398</td>\n",
       "      <td>-0.269381</td>\n",
       "      <td>-0.277164</td>\n",
       "      <td>-0.175032</td>\n",
       "      <td>-0.233354</td>\n",
       "      <td>-0.309284</td>\n",
       "      <td>-0.187850</td>\n",
       "      <td>-0.239245</td>\n",
       "      <td>-0.212294</td>\n",
       "    </tr>\n",
       "    <tr>\n",
       "      <th>25%</th>\n",
       "      <td>-0.030564</td>\n",
       "      <td>-0.040518</td>\n",
       "      <td>-0.041756</td>\n",
       "      <td>-0.026743</td>\n",
       "      <td>-0.030464</td>\n",
       "      <td>-0.030928</td>\n",
       "      <td>-0.033921</td>\n",
       "      <td>-0.040087</td>\n",
       "      <td>-0.023952</td>\n",
       "      <td>-0.038240</td>\n",
       "      <td>-0.060063</td>\n",
       "      <td>-0.033765</td>\n",
       "      <td>-0.047733</td>\n",
       "      <td>-0.056099</td>\n",
       "      <td>-0.016024</td>\n",
       "      <td>-0.044276</td>\n",
       "      <td>-0.053405</td>\n",
       "    </tr>\n",
       "    <tr>\n",
       "      <th>50%</th>\n",
       "      <td>0.011885</td>\n",
       "      <td>0.003840</td>\n",
       "      <td>0.001892</td>\n",
       "      <td>0.005099</td>\n",
       "      <td>0.012270</td>\n",
       "      <td>0.012318</td>\n",
       "      <td>0.011864</td>\n",
       "      <td>0.009148</td>\n",
       "      <td>0.007232</td>\n",
       "      <td>0.002251</td>\n",
       "      <td>-0.004884</td>\n",
       "      <td>-0.003302</td>\n",
       "      <td>0.000996</td>\n",
       "      <td>0.018981</td>\n",
       "      <td>0.015756</td>\n",
       "      <td>0.000141</td>\n",
       "      <td>-0.000233</td>\n",
       "    </tr>\n",
       "    <tr>\n",
       "      <th>75%</th>\n",
       "      <td>0.053529</td>\n",
       "      <td>0.050494</td>\n",
       "      <td>0.045763</td>\n",
       "      <td>0.037082</td>\n",
       "      <td>0.053108</td>\n",
       "      <td>0.053119</td>\n",
       "      <td>0.060842</td>\n",
       "      <td>0.066337</td>\n",
       "      <td>0.048337</td>\n",
       "      <td>0.051394</td>\n",
       "      <td>0.057544</td>\n",
       "      <td>0.031816</td>\n",
       "      <td>0.046351</td>\n",
       "      <td>0.098419</td>\n",
       "      <td>0.038749</td>\n",
       "      <td>0.049040</td>\n",
       "      <td>0.059464</td>\n",
       "    </tr>\n",
       "    <tr>\n",
       "      <th>max</th>\n",
       "      <td>0.283979</td>\n",
       "      <td>1.458296</td>\n",
       "      <td>0.343653</td>\n",
       "      <td>0.420782</td>\n",
       "      <td>0.281199</td>\n",
       "      <td>0.376986</td>\n",
       "      <td>0.916087</td>\n",
       "      <td>1.614265</td>\n",
       "      <td>0.257600</td>\n",
       "      <td>0.336192</td>\n",
       "      <td>0.618821</td>\n",
       "      <td>0.338632</td>\n",
       "      <td>1.023532</td>\n",
       "      <td>0.740882</td>\n",
       "      <td>0.740697</td>\n",
       "      <td>0.529393</td>\n",
       "      <td>0.696395</td>\n",
       "    </tr>\n",
       "  </tbody>\n",
       "</table>\n",
       "</div>"
      ],
      "text/plain": [
       "          uniform   minvar_3w   minvar_6w  minvar_12w  markowitz_0_3w  \\\n",
       "count  645.000000  645.000000  645.000000  645.000000      645.000000   \n",
       "mean     0.014857    0.016973    0.006003    0.013499        0.014783   \n",
       "std      0.070434    0.123240    0.080005    0.069608        0.070162   \n",
       "min     -0.214001   -0.261414   -0.202731   -0.164017       -0.213860   \n",
       "25%     -0.030564   -0.040518   -0.041756   -0.026743       -0.030464   \n",
       "50%      0.011885    0.003840    0.001892    0.005099        0.012270   \n",
       "75%      0.053529    0.050494    0.045763    0.037082        0.053108   \n",
       "max      0.283979    1.458296    0.343653    0.420782        0.281199   \n",
       "\n",
       "       markowitz_1_3w  markowitz_5_3w  markowitz_10_3w         btc  \\\n",
       "count      645.000000      645.000000       645.000000  645.000000   \n",
       "mean         0.016842        0.025075         0.035368    0.015507   \n",
       "std          0.074780        0.106822         0.160486    0.066427   \n",
       "min         -0.216754       -0.249555        -0.410588   -0.202398   \n",
       "25%         -0.030928       -0.033921        -0.040087   -0.023952   \n",
       "50%          0.012318        0.011864         0.009148    0.007232   \n",
       "75%          0.053119        0.060842         0.066337    0.048337   \n",
       "max          0.376986        0.916087         1.614265    0.257600   \n",
       "\n",
       "              eth         dot         okb         xrp         sol         trx  \\\n",
       "count  645.000000  645.000000  645.000000  645.000000  645.000000  645.000000   \n",
       "mean     0.009990    0.007054    0.004319    0.025876    0.031755    0.017624   \n",
       "std      0.078637    0.110244    0.076013    0.148157    0.128964    0.077493   \n",
       "min     -0.269381   -0.277164   -0.175032   -0.233354   -0.309284   -0.187850   \n",
       "25%     -0.038240   -0.060063   -0.033765   -0.047733   -0.056099   -0.016024   \n",
       "50%      0.002251   -0.004884   -0.003302    0.000996    0.018981    0.015756   \n",
       "75%      0.051394    0.057544    0.031816    0.046351    0.098419    0.038749   \n",
       "max      0.336192    0.618821    0.338632    1.023532    0.740882    0.740697   \n",
       "\n",
       "              ltc         ton  \n",
       "count  645.000000  645.000000  \n",
       "mean     0.005589    0.015999  \n",
       "std      0.091233    0.111794  \n",
       "min     -0.239245   -0.212294  \n",
       "25%     -0.044276   -0.053405  \n",
       "50%      0.000141   -0.000233  \n",
       "75%      0.049040    0.059464  \n",
       "max      0.529393    0.696395  "
      ]
     },
     "execution_count": 14,
     "metadata": {},
     "output_type": "execute_result"
    }
   ],
   "source": [
    "pnl.describe()"
   ]
  },
  {
   "cell_type": "code",
   "execution_count": 15,
   "id": "3f0e4983",
   "metadata": {},
   "outputs": [
    {
     "data": {
      "image/png": "[encoded data removed]",
      "text/plain": [
       "<Figure size 640x480 with 1 Axes>"
      ]
     },
     "metadata": {},
     "output_type": "display_data"
    }
   ],
   "source": [
    "plt.boxplot(pnl, showfliers=False, orientation='horizontal', tick_labels=pnl.columns)\n",
    "plt.show()"
   ]
  },
  {
   "cell_type": "code",
   "execution_count": 16,
   "id": "2e3c7fec",
   "metadata": {},
   "outputs": [
    {
     "data": {
      "text/html": [
       "<div>\n",
       "<style scoped>\n",
       "    .dataframe tbody tr th:only-of-type {\n",
       "        vertical-align: middle;\n",
       "    }\n",
       "\n",
       "    .dataframe tbody tr th {\n",
       "        vertical-align: top;\n",
       "    }\n",
       "\n",
       "    .dataframe thead th {\n",
       "        text-align: right;\n",
       "    }\n",
       "</style>\n",
       "<table border=\"1\" class=\"dataframe\">\n",
       "  <thead>\n",
       "    <tr style=\"text-align: right;\">\n",
       "      <th></th>\n",
       "      <th>count</th>\n",
       "      <th>mean</th>\n",
       "      <th>std</th>\n",
       "      <th>min</th>\n",
       "      <th>25%</th>\n",
       "      <th>50%</th>\n",
       "      <th>75%</th>\n",
       "      <th>max</th>\n",
       "    </tr>\n",
       "  </thead>\n",
       "  <tbody>\n",
       "    <tr>\n",
       "      <th>markowitz_10_3w</th>\n",
       "      <td>645.0</td>\n",
       "      <td>0.035368</td>\n",
       "      <td>0.160486</td>\n",
       "      <td>-0.410588</td>\n",
       "      <td>-0.040087</td>\n",
       "      <td>0.009148</td>\n",
       "      <td>0.066337</td>\n",
       "      <td>1.614265</td>\n",
       "    </tr>\n",
       "    <tr>\n",
       "      <th>sol</th>\n",
       "      <td>645.0</td>\n",
       "      <td>0.031755</td>\n",
       "      <td>0.128964</td>\n",
       "      <td>-0.309284</td>\n",
       "      <td>-0.056099</td>\n",
       "      <td>0.018981</td>\n",
       "      <td>0.098419</td>\n",
       "      <td>0.740882</td>\n",
       "    </tr>\n",
       "    <tr>\n",
       "      <th>xrp</th>\n",
       "      <td>645.0</td>\n",
       "      <td>0.025876</td>\n",
       "      <td>0.148157</td>\n",
       "      <td>-0.233354</td>\n",
       "      <td>-0.047733</td>\n",
       "      <td>0.000996</td>\n",
       "      <td>0.046351</td>\n",
       "      <td>1.023532</td>\n",
       "    </tr>\n",
       "    <tr>\n",
       "      <th>markowitz_5_3w</th>\n",
       "      <td>645.0</td>\n",
       "      <td>0.025075</td>\n",
       "      <td>0.106822</td>\n",
       "      <td>-0.249555</td>\n",
       "      <td>-0.033921</td>\n",
       "      <td>0.011864</td>\n",
       "      <td>0.060842</td>\n",
       "      <td>0.916087</td>\n",
       "    </tr>\n",
       "    <tr>\n",
       "      <th>trx</th>\n",
       "      <td>645.0</td>\n",
       "      <td>0.017624</td>\n",
       "      <td>0.077493</td>\n",
       "      <td>-0.187850</td>\n",
       "      <td>-0.016024</td>\n",
       "      <td>0.015756</td>\n",
       "      <td>0.038749</td>\n",
       "      <td>0.740697</td>\n",
       "    </tr>\n",
       "    <tr>\n",
       "      <th>minvar_3w</th>\n",
       "      <td>645.0</td>\n",
       "      <td>0.016973</td>\n",
       "      <td>0.123240</td>\n",
       "      <td>-0.261414</td>\n",
       "      <td>-0.040518</td>\n",
       "      <td>0.003840</td>\n",
       "      <td>0.050494</td>\n",
       "      <td>1.458296</td>\n",
       "    </tr>\n",
       "    <tr>\n",
       "      <th>markowitz_1_3w</th>\n",
       "      <td>645.0</td>\n",
       "      <td>0.016842</td>\n",
       "      <td>0.074780</td>\n",
       "      <td>-0.216754</td>\n",
       "      <td>-0.030928</td>\n",
       "      <td>0.012318</td>\n",
       "      <td>0.053119</td>\n",
       "      <td>0.376986</td>\n",
       "    </tr>\n",
       "    <tr>\n",
       "      <th>ton</th>\n",
       "      <td>645.0</td>\n",
       "      <td>0.015999</td>\n",
       "      <td>0.111794</td>\n",
       "      <td>-0.212294</td>\n",
       "      <td>-0.053405</td>\n",
       "      <td>-0.000233</td>\n",
       "      <td>0.059464</td>\n",
       "      <td>0.696395</td>\n",
       "    </tr>\n",
       "    <tr>\n",
       "      <th>btc</th>\n",
       "      <td>645.0</td>\n",
       "      <td>0.015507</td>\n",
       "      <td>0.066427</td>\n",
       "      <td>-0.202398</td>\n",
       "      <td>-0.023952</td>\n",
       "      <td>0.007232</td>\n",
       "      <td>0.048337</td>\n",
       "      <td>0.257600</td>\n",
       "    </tr>\n",
       "    <tr>\n",
       "      <th>uniform</th>\n",
       "      <td>645.0</td>\n",
       "      <td>0.014857</td>\n",
       "      <td>0.070434</td>\n",
       "      <td>-0.214001</td>\n",
       "      <td>-0.030564</td>\n",
       "      <td>0.011885</td>\n",
       "      <td>0.053529</td>\n",
       "      <td>0.283979</td>\n",
       "    </tr>\n",
       "    <tr>\n",
       "      <th>markowitz_0_3w</th>\n",
       "      <td>645.0</td>\n",
       "      <td>0.014783</td>\n",
       "      <td>0.070162</td>\n",
       "      <td>-0.213860</td>\n",
       "      <td>-0.030464</td>\n",
       "      <td>0.012270</td>\n",
       "      <td>0.053108</td>\n",
       "      <td>0.281199</td>\n",
       "    </tr>\n",
       "    <tr>\n",
       "      <th>minvar_12w</th>\n",
       "      <td>645.0</td>\n",
       "      <td>0.013499</td>\n",
       "      <td>0.069608</td>\n",
       "      <td>-0.164017</td>\n",
       "      <td>-0.026743</td>\n",
       "      <td>0.005099</td>\n",
       "      <td>0.037082</td>\n",
       "      <td>0.420782</td>\n",
       "    </tr>\n",
       "    <tr>\n",
       "      <th>eth</th>\n",
       "      <td>645.0</td>\n",
       "      <td>0.009990</td>\n",
       "      <td>0.078637</td>\n",
       "      <td>-0.269381</td>\n",
       "      <td>-0.038240</td>\n",
       "      <td>0.002251</td>\n",
       "      <td>0.051394</td>\n",
       "      <td>0.336192</td>\n",
       "    </tr>\n",
       "    <tr>\n",
       "      <th>dot</th>\n",
       "      <td>645.0</td>\n",
       "      <td>0.007054</td>\n",
       "      <td>0.110244</td>\n",
       "      <td>-0.277164</td>\n",
       "      <td>-0.060063</td>\n",
       "      <td>-0.004884</td>\n",
       "      <td>0.057544</td>\n",
       "      <td>0.618821</td>\n",
       "    </tr>\n",
       "    <tr>\n",
       "      <th>minvar_6w</th>\n",
       "      <td>645.0</td>\n",
       "      <td>0.006003</td>\n",
       "      <td>0.080005</td>\n",
       "      <td>-0.202731</td>\n",
       "      <td>-0.041756</td>\n",
       "      <td>0.001892</td>\n",
       "      <td>0.045763</td>\n",
       "      <td>0.343653</td>\n",
       "    </tr>\n",
       "    <tr>\n",
       "      <th>ltc</th>\n",
       "      <td>645.0</td>\n",
       "      <td>0.005589</td>\n",
       "      <td>0.091233</td>\n",
       "      <td>-0.239245</td>\n",
       "      <td>-0.044276</td>\n",
       "      <td>0.000141</td>\n",
       "      <td>0.049040</td>\n",
       "      <td>0.529393</td>\n",
       "    </tr>\n",
       "    <tr>\n",
       "      <th>okb</th>\n",
       "      <td>645.0</td>\n",
       "      <td>0.004319</td>\n",
       "      <td>0.076013</td>\n",
       "      <td>-0.175032</td>\n",
       "      <td>-0.033765</td>\n",
       "      <td>-0.003302</td>\n",
       "      <td>0.031816</td>\n",
       "      <td>0.338632</td>\n",
       "    </tr>\n",
       "  </tbody>\n",
       "</table>\n",
       "</div>"
      ],
      "text/plain": [
       "                 count      mean       std       min       25%       50%  \\\n",
       "markowitz_10_3w  645.0  0.035368  0.160486 -0.410588 -0.040087  0.009148   \n",
       "sol              645.0  0.031755  0.128964 -0.309284 -0.056099  0.018981   \n",
       "xrp              645.0  0.025876  0.148157 -0.233354 -0.047733  0.000996   \n",
       "markowitz_5_3w   645.0  0.025075  0.106822 -0.249555 -0.033921  0.011864   \n",
       "trx              645.0  0.017624  0.077493 -0.187850 -0.016024  0.015756   \n",
       "minvar_3w        645.0  0.016973  0.123240 -0.261414 -0.040518  0.003840   \n",
       "markowitz_1_3w   645.0  0.016842  0.074780 -0.216754 -0.030928  0.012318   \n",
       "ton              645.0  0.015999  0.111794 -0.212294 -0.053405 -0.000233   \n",
       "btc              645.0  0.015507  0.066427 -0.202398 -0.023952  0.007232   \n",
       "uniform          645.0  0.014857  0.070434 -0.214001 -0.030564  0.011885   \n",
       "markowitz_0_3w   645.0  0.014783  0.070162 -0.213860 -0.030464  0.012270   \n",
       "minvar_12w       645.0  0.013499  0.069608 -0.164017 -0.026743  0.005099   \n",
       "eth              645.0  0.009990  0.078637 -0.269381 -0.038240  0.002251   \n",
       "dot              645.0  0.007054  0.110244 -0.277164 -0.060063 -0.004884   \n",
       "minvar_6w        645.0  0.006003  0.080005 -0.202731 -0.041756  0.001892   \n",
       "ltc              645.0  0.005589  0.091233 -0.239245 -0.044276  0.000141   \n",
       "okb              645.0  0.004319  0.076013 -0.175032 -0.033765 -0.003302   \n",
       "\n",
       "                      75%       max  \n",
       "markowitz_10_3w  0.066337  1.614265  \n",
       "sol              0.098419  0.740882  \n",
       "xrp              0.046351  1.023532  \n",
       "markowitz_5_3w   0.060842  0.916087  \n",
       "trx              0.038749  0.740697  \n",
       "minvar_3w        0.050494  1.458296  \n",
       "markowitz_1_3w   0.053119  0.376986  \n",
       "ton              0.059464  0.696395  \n",
       "btc              0.048337  0.257600  \n",
       "uniform          0.053529  0.283979  \n",
       "markowitz_0_3w   0.053108  0.281199  \n",
       "minvar_12w       0.037082  0.420782  \n",
       "eth              0.051394  0.336192  \n",
       "dot              0.057544  0.618821  \n",
       "minvar_6w        0.045763  0.343653  \n",
       "ltc              0.049040  0.529393  \n",
       "okb              0.031816  0.338632  "
      ]
     },
     "execution_count": 16,
     "metadata": {},
     "output_type": "execute_result"
    }
   ],
   "source": [
    "pnl.describe().T.sort_values('mean', ascending=False)"
   ]
  },
  {
   "cell_type": "code",
   "execution_count": 17,
   "id": "218f4624",
   "metadata": {},
   "outputs": [
    {
     "data": {
      "application/vnd.plotly.v1+json": {
       "config": {
        "plotlyServerURL": "https://plot.ly"
       },
       "data": [
        {
         "hovertemplate": "std=%{x}<br>mean=%{y}<br>name=%{text}<extra></extra>",
         "legendgroup": "",
         "marker": {
          "color": "#636efa",
          "symbol": "circle"
         },
         "mode": "markers+text",
         "name": "",
         "orientation": "v",
         "showlegend": false,
         "text": [
          "uniform",
          "minvar_3w",
          "minvar_6w",
          "minvar_12w",
          "markowitz_0_3w",
          "markowitz_1_3w",
          "markowitz_5_3w",
          "markowitz_10_3w",
          "btc",
          "eth",
          "dot",
          "okb",
          "xrp",
          "sol",
          "trx",
          "ltc",
          "ton"
         ],
         "type": "scatter",
         "x": {
          "bdata": "YegQBvgHsj+hOa6FoYy/PyaqTfE4e7Q/vp3Y6djRsT/OcFucH/axPy/uOBLCJLM/dcon5bNYuz8ENxh8zIrEP0lhLp5fAbE/tXBW64ohtD8w3LGK9zi8P8aDtgWRdbM/r/NSic/2wj9pbT8o5oHAP2Ihz7CT1rM/ei9IdgRbtz/izt+nj568Pw==",
          "dtype": "f8"
         },
         "xaxis": "x",
         "y": {
          "bdata": "hfiy2V1tjj+msldvUGGRP9KgaCeClng/lD793Uuliz9wN2plhUaOP9+275MlP5E/4eUtFEmtmT+Q+EnjtxuiPyJX9rw+wo8/OBNEeNJ1hD83dbpZ9+R8P0l+e9J0sHE/kfrW4k1/mj/H2llmLUKgP3K43B/+C5I/eGC6XwLkdj+cq6RGG2KQPw==",
          "dtype": "f8"
         },
         "yaxis": "y"
        }
       ],
       "layout": {
        "legend": {
         "tracegroupgap": 0
        },
        "margin": {
         "t": 60
        },
        "template": {
         "data": {
          "bar": [
           {
            "error_x": {
             "color": "#2a3f5f"
            },
            "error_y": {
             "color": "#2a3f5f"
            },
            "marker": {
             "line": {
              "color": "#E5ECF6",
              "width": 0.5
             },
             "pattern": {
              "fillmode": "overlay",
              "size": 10,
              "solidity": 0.2
             }
            },
            "type": "bar"
           }
          ],
          "barpolar": [
           {
            "marker": {
             "line": {
              "color": "#E5ECF6",
              "width": 0.5
             },
             "pattern": {
              "fillmode": "overlay",
              "size": 10,
              "solidity": 0.2
             }
            },
            "type": "barpolar"
           }
          ],
          "carpet": [
           {
            "aaxis": {
             "endlinecolor": "#2a3f5f",
             "gridcolor": "white",
             "linecolor": "white",
             "minorgridcolor": "white",
             "startlinecolor": "#2a3f5f"
            },
            "baxis": {
             "endlinecolor": "#2a3f5f",
             "gridcolor": "white",
             "linecolor": "white",
             "minorgridcolor": "white",
             "startlinecolor": "#2a3f5f"
            },
            "type": "carpet"
           }
          ],
          "choropleth": [
           {
            "colorbar": {
             "outlinewidth": 0,
             "ticks": ""
            },
            "type": "choropleth"
           }
          ],
          "contour": [
           {
            "colorbar": {
             "outlinewidth": 0,
             "ticks": ""
            },
            "colorscale": [
             [
              0,
              "#0d0887"
             ],
             [
              0.1111111111111111,
              "#46039f"
             ],
             [
              0.2222222222222222,
              "#7201a8"
             ],
             [
              0.3333333333333333,
              "#9c179e"
             ],
             [
              0.4444444444444444,
              "#bd3786"
             ],
             [
              0.5555555555555556,
              "#d8576b"
             ],
             [
              0.6666666666666666,
              "#ed7953"
             ],
             [
              0.7777777777777778,
              "#fb9f3a"
             ],
             [
              0.8888888888888888,
              "#fdca26"
             ],
             [
              1,
              "#f0f921"
             ]
            ],
            "type": "contour"
           }
          ],
          "contourcarpet": [
           {
            "colorbar": {
             "outlinewidth": 0,
             "ticks": ""
            },
            "type": "contourcarpet"
           }
          ],
          "heatmap": [
           {
            "colorbar": {
             "outlinewidth": 0,
             "ticks": ""
            },
            "colorscale": [
             [
              0,
              "#0d0887"
             ],
             [
              0.1111111111111111,
              "#46039f"
             ],
             [
              0.2222222222222222,
              "#7201a8"
             ],
             [
              0.3333333333333333,
              "#9c179e"
             ],
             [
              0.4444444444444444,
              "#bd3786"
             ],
             [
              0.5555555555555556,
              "#d8576b"
             ],
             [
              0.6666666666666666,
              "#ed7953"
             ],
             [
              0.7777777777777778,
              "#fb9f3a"
             ],
             [
              0.8888888888888888,
              "#fdca26"
             ],
             [
              1,
              "#f0f921"
             ]
            ],
            "type": "heatmap"
           }
          ],
          "histogram": [
           {
            "marker": {
             "pattern": {
              "fillmode": "overlay",
              "size": 10,
              "solidity": 0.2
             }
            },
            "type": "histogram"
           }
          ],
          "histogram2d": [
           {
            "colorbar": {
             "outlinewidth": 0,
             "ticks": ""
            },
            "colorscale": [
             [
              0,
              "#0d0887"
             ],
             [
              0.1111111111111111,
              "#46039f"
             ],
             [
              0.2222222222222222,
              "#7201a8"
             ],
             [
              0.3333333333333333,
              "#9c179e"
             ],
             [
              0.4444444444444444,
              "#bd3786"
             ],
             [
              0.5555555555555556,
              "#d8576b"
             ],
             [
              0.6666666666666666,
              "#ed7953"
             ],
             [
              0.7777777777777778,
              "#fb9f3a"
             ],
             [
              0.8888888888888888,
              "#fdca26"
             ],
             [
              1,
              "#f0f921"
             ]
            ],
            "type": "histogram2d"
           }
          ],
          "histogram2dcontour": [
           {
            "colorbar": {
             "outlinewidth": 0,
             "ticks": ""
            },
            "colorscale": [
             [
              0,
              "#0d0887"
             ],
             [
              0.1111111111111111,
              "#46039f"
             ],
             [
              0.2222222222222222,
              "#7201a8"
             ],
             [
              0.3333333333333333,
              "#9c179e"
             ],
             [
              0.4444444444444444,
              "#bd3786"
             ],
             [
              0.5555555555555556,
              "#d8576b"
             ],
             [
              0.6666666666666666,
              "#ed7953"
             ],
             [
              0.7777777777777778,
              "#fb9f3a"
             ],
             [
              0.8888888888888888,
              "#fdca26"
             ],
             [
              1,
              "#f0f921"
             ]
            ],
            "type": "histogram2dcontour"
           }
          ],
          "mesh3d": [
           {
            "colorbar": {
             "outlinewidth": 0,
             "ticks": ""
            },
            "type": "mesh3d"
           }
          ],
          "parcoords": [
           {
            "line": {
             "colorbar": {
              "outlinewidth": 0,
              "ticks": ""
             }
            },
            "type": "parcoords"
           }
          ],
          "pie": [
           {
            "automargin": true,
            "type": "pie"
           }
          ],
          "scatter": [
           {
            "fillpattern": {
             "fillmode": "overlay",
             "size": 10,
             "solidity": 0.2
            },
            "type": "scatter"
           }
          ],
          "scatter3d": [
           {
            "line": {
             "colorbar": {
              "outlinewidth": 0,
              "ticks": ""
             }
            },
            "marker": {
             "colorbar": {
              "outlinewidth": 0,
              "ticks": ""
             }
            },
            "type": "scatter3d"
           }
          ],
          "scattercarpet": [
           {
            "marker": {
             "colorbar": {
              "outlinewidth": 0,
              "ticks": ""
             }
            },
            "type": "scattercarpet"
           }
          ],
          "scattergeo": [
           {
            "marker": {
             "colorbar": {
              "outlinewidth": 0,
              "ticks": ""
             }
            },
            "type": "scattergeo"
           }
          ],
          "scattergl": [
           {
            "marker": {
             "colorbar": {
              "outlinewidth": 0,
              "ticks": ""
             }
            },
            "type": "scattergl"
           }
          ],
          "scattermap": [
           {
            "marker": {
             "colorbar": {
              "outlinewidth": 0,
              "ticks": ""
             }
            },
            "type": "scattermap"
           }
          ],
          "scattermapbox": [
           {
            "marker": {
             "colorbar": {
              "outlinewidth": 0,
              "ticks": ""
             }
            },
            "type": "scattermapbox"
           }
          ],
          "scatterpolar": [
           {
            "marker": {
             "colorbar": {
              "outlinewidth": 0,
              "ticks": ""
             }
            },
            "type": "scatterpolar"
           }
          ],
          "scatterpolargl": [
           {
            "marker": {
             "colorbar": {
              "outlinewidth": 0,
              "ticks": ""
             }
            },
            "type": "scatterpolargl"
           }
          ],
          "scatterternary": [
           {
            "marker": {
             "colorbar": {
              "outlinewidth": 0,
              "ticks": ""
             }
            },
            "type": "scatterternary"
           }
          ],
          "surface": [
           {
            "colorbar": {
             "outlinewidth": 0,
             "ticks": ""
            },
            "colorscale": [
             [
              0,
              "#0d0887"
             ],
             [
              0.1111111111111111,
              "#46039f"
             ],
             [
              0.2222222222222222,
              "#7201a8"
             ],
             [
              0.3333333333333333,
              "#9c179e"
             ],
             [
              0.4444444444444444,
              "#bd3786"
             ],
             [
              0.5555555555555556,
              "#d8576b"
             ],
             [
              0.6666666666666666,
              "#ed7953"
             ],
             [
              0.7777777777777778,
              "#fb9f3a"
             ],
             [
              0.8888888888888888,
              "#fdca26"
             ],
             [
              1,
              "#f0f921"
             ]
            ],
            "type": "surface"
           }
          ],
          "table": [
           {
            "cells": {
             "fill": {
              "color": "#EBF0F8"
             },
             "line": {
              "color": "white"
             }
            },
            "header": {
             "fill": {
              "color": "#C8D4E3"
             },
             "line": {
              "color": "white"
             }
            },
            "type": "table"
           }
          ]
         },
         "layout": {
          "annotationdefaults": {
           "arrowcolor": "#2a3f5f",
           "arrowhead": 0,
           "arrowwidth": 1
          },
          "autotypenumbers": "strict",
          "coloraxis": {
           "colorbar": {
            "outlinewidth": 0,
            "ticks": ""
           }
          },
          "colorscale": {
           "diverging": [
            [
             0,
             "#8e0152"
            ],
            [
             0.1,
             "#c51b7d"
            ],
            [
             0.2,
             "#de77ae"
            ],
            [
             0.3,
             "#f1b6da"
            ],
            [
             0.4,
             "#fde0ef"
            ],
            [
             0.5,
             "#f7f7f7"
            ],
            [
             0.6,
             "#e6f5d0"
            ],
            [
             0.7,
             "#b8e186"
            ],
            [
             0.8,
             "#7fbc41"
            ],
            [
             0.9,
             "#4d9221"
            ],
            [
             1,
             "#276419"
            ]
           ],
           "sequential": [
            [
             0,
             "#0d0887"
            ],
            [
             0.1111111111111111,
             "#46039f"
            ],
            [
             0.2222222222222222,
             "#7201a8"
            ],
            [
             0.3333333333333333,
             "#9c179e"
            ],
            [
             0.4444444444444444,
             "#bd3786"
            ],
            [
             0.5555555555555556,
             "#d8576b"
            ],
            [
             0.6666666666666666,
             "#ed7953"
            ],
            [
             0.7777777777777778,
             "#fb9f3a"
            ],
            [
             0.8888888888888888,
             "#fdca26"
            ],
            [
             1,
             "#f0f921"
            ]
           ],
           "sequentialminus": [
            [
             0,
             "#0d0887"
            ],
            [
             0.1111111111111111,
             "#46039f"
            ],
            [
             0.2222222222222222,
             "#7201a8"
            ],
            [
             0.3333333333333333,
             "#9c179e"
            ],
            [
             0.4444444444444444,
             "#bd3786"
            ],
            [
             0.5555555555555556,
             "#d8576b"
            ],
            [
             0.6666666666666666,
             "#ed7953"
            ],
            [
             0.7777777777777778,
             "#fb9f3a"
            ],
            [
             0.8888888888888888,
             "#fdca26"
            ],
            [
             1,
             "#f0f921"
            ]
           ]
          },
          "colorway": [
           "#636efa",
           "#EF553B",
           "#00cc96",
           "#ab63fa",
           "#FFA15A",
           "#19d3f3",
           "#FF6692",
           "#B6E880",
           "#FF97FF",
           "#FECB52"
          ],
          "font": {
           "color": "#2a3f5f"
          },
          "geo": {
           "bgcolor": "white",
           "lakecolor": "white",
           "landcolor": "#E5ECF6",
           "showlakes": true,
           "showland": true,
           "subunitcolor": "white"
          },
          "hoverlabel": {
           "align": "left"
          },
          "hovermode": "closest",
          "mapbox": {
           "style": "light"
          },
          "paper_bgcolor": "white",
          "plot_bgcolor": "#E5ECF6",
          "polar": {
           "angularaxis": {
            "gridcolor": "white",
            "linecolor": "white",
            "ticks": ""
           },
           "bgcolor": "#E5ECF6",
           "radialaxis": {
            "gridcolor": "white",
            "linecolor": "white",
            "ticks": ""
           }
          },
          "scene": {
           "xaxis": {
            "backgroundcolor": "#E5ECF6",
            "gridcolor": "white",
            "gridwidth": 2,
            "linecolor": "white",
            "showbackground": true,
            "ticks": "",
            "zerolinecolor": "white"
           },
           "yaxis": {
            "backgroundcolor": "#E5ECF6",
            "gridcolor": "white",
            "gridwidth": 2,
            "linecolor": "white",
            "showbackground": true,
            "ticks": "",
            "zerolinecolor": "white"
           },
           "zaxis": {
            "backgroundcolor": "#E5ECF6",
            "gridcolor": "white",
            "gridwidth": 2,
            "linecolor": "white",
            "showbackground": true,
            "ticks": "",
            "zerolinecolor": "white"
           }
          },
          "shapedefaults": {
           "line": {
            "color": "#2a3f5f"
           }
          },
          "ternary": {
           "aaxis": {
            "gridcolor": "white",
            "linecolor": "white",
            "ticks": ""
           },
           "baxis": {
            "gridcolor": "white",
            "linecolor": "white",
            "ticks": ""
           },
           "bgcolor": "#E5ECF6",
           "caxis": {
            "gridcolor": "white",
            "linecolor": "white",
            "ticks": ""
           }
          },
          "title": {
           "x": 0.05
          },
          "xaxis": {
           "automargin": true,
           "gridcolor": "white",
           "linecolor": "white",
           "ticks": "",
           "title": {
            "standoff": 15
           },
           "zerolinecolor": "white",
           "zerolinewidth": 2
          },
          "yaxis": {
           "automargin": true,
           "gridcolor": "white",
           "linecolor": "white",
           "ticks": "",
           "title": {
            "standoff": 15
           },
           "zerolinecolor": "white",
           "zerolinewidth": 2
          }
         }
        },
        "xaxis": {
         "anchor": "y",
         "domain": [
          0,
          1
         ],
         "title": {
          "text": "std"
         }
        },
        "yaxis": {
         "anchor": "x",
         "domain": [
          0,
          1
         ],
         "title": {
          "text": "mean"
         }
        }
       }
      }
     },
     "metadata": {},
     "output_type": "display_data"
    }
   ],
   "source": [
    "df = pnl.describe().T.reset_index(names='name')\n",
    "px.scatter(df, x='std', y='mean', text='name')"
   ]
  }
 ],
 "metadata": {
  "kernelspec": {
   "display_name": "base",
   "language": "python",
   "name": "python3"
  },
  "language_info": {
   "codemirror_mode": {
    "name": "ipython",
    "version": 3
   },
   "file_extension": ".py",
   "mimetype": "text/x-python",
   "name": "python",
   "nbconvert_exporter": "python",
   "pygments_lexer": "ipython3",
   "version": "3.12.9"
  }
 },
 "nbformat": 4,
 "nbformat_minor": 5
}
