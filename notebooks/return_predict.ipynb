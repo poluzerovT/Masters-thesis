{
 "cells": [
  {
   "cell_type": "code",
   "execution_count": 1,
   "id": "700cd023-44d0-4e6e-b616-52d242c0c67c",
   "metadata": {},
   "outputs": [],
   "source": [
    "import numpy as np\n",
    "import pandas as pd\n",
    "import matplotlib.pyplot as plt\n",
    "import seaborn as sns\n",
    "\n",
    "from scipy import optimize as opt\n",
    "\n",
    "from sklearn import metrics\n",
    "from sklearn.linear_model import LinearRegression, Ridge\n",
    "from sklearn.model_selection import train_test_split\n",
    "from sklearn.ensemble import AdaBoostRegressor\n",
    "\n",
    "from skforecast.direct import ForecasterDirect, ForecasterDirectMultiVariate\n",
    "from skforecast.recursive import ForecasterRecursive, ForecasterSarimax\n",
    "from skforecast.sarimax import Sarimax\n",
    "from skforecast.model_selection import TimeSeriesFold\n",
    "from skforecast.model_selection import backtesting_forecaster, backtesting_sarimax, grid_search_forecaster\n",
    "\n",
    "import catboost\n",
    "from catboost import CatBoostRegressor\n",
    "\n",
    "import tqdm"
   ]
  },
  {
   "cell_type": "code",
   "execution_count": 2,
   "id": "40521b1a-dbed-4aa3-a84a-37944ac181f3",
   "metadata": {},
   "outputs": [
    {
     "data": {
      "text/html": [
       "<div>\n",
       "<style scoped>\n",
       "    .dataframe tbody tr th:only-of-type {\n",
       "        vertical-align: middle;\n",
       "    }\n",
       "\n",
       "    .dataframe tbody tr th {\n",
       "        vertical-align: top;\n",
       "    }\n",
       "\n",
       "    .dataframe thead th {\n",
       "        text-align: right;\n",
       "    }\n",
       "</style>\n",
       "<table border=\"1\" class=\"dataframe\">\n",
       "  <thead>\n",
       "    <tr style=\"text-align: right;\">\n",
       "      <th></th>\n",
       "      <th>BTC</th>\n",
       "      <th>ETH</th>\n",
       "      <th>DOT</th>\n",
       "      <th>OKB</th>\n",
       "      <th>XRP</th>\n",
       "      <th>SOL</th>\n",
       "      <th>TRX</th>\n",
       "      <th>LTC</th>\n",
       "    </tr>\n",
       "    <tr>\n",
       "      <th>dt</th>\n",
       "      <th></th>\n",
       "      <th></th>\n",
       "      <th></th>\n",
       "      <th></th>\n",
       "      <th></th>\n",
       "      <th></th>\n",
       "      <th></th>\n",
       "      <th></th>\n",
       "    </tr>\n",
       "  </thead>\n",
       "  <tbody>\n",
       "    <tr>\n",
       "      <th>2020-01-01 19:00:00</th>\n",
       "      <td>7131.9</td>\n",
       "      <td>129.56</td>\n",
       "      <td>NaN</td>\n",
       "      <td>NaN</td>\n",
       "      <td>0.19050</td>\n",
       "      <td>NaN</td>\n",
       "      <td>0.01312</td>\n",
       "      <td>41.17</td>\n",
       "    </tr>\n",
       "    <tr>\n",
       "      <th>2020-01-02 19:00:00</th>\n",
       "      <td>7319.7</td>\n",
       "      <td>132.47</td>\n",
       "      <td>NaN</td>\n",
       "      <td>NaN</td>\n",
       "      <td>0.19203</td>\n",
       "      <td>NaN</td>\n",
       "      <td>0.01337</td>\n",
       "      <td>41.76</td>\n",
       "    </tr>\n",
       "    <tr>\n",
       "      <th>2020-01-03 19:00:00</th>\n",
       "      <td>7318.9</td>\n",
       "      <td>133.29</td>\n",
       "      <td>NaN</td>\n",
       "      <td>NaN</td>\n",
       "      <td>0.19249</td>\n",
       "      <td>NaN</td>\n",
       "      <td>0.01335</td>\n",
       "      <td>42.28</td>\n",
       "    </tr>\n",
       "    <tr>\n",
       "      <th>2020-01-04 19:00:00</th>\n",
       "      <td>7467.4</td>\n",
       "      <td>137.24</td>\n",
       "      <td>NaN</td>\n",
       "      <td>NaN</td>\n",
       "      <td>0.19628</td>\n",
       "      <td>NaN</td>\n",
       "      <td>0.01377</td>\n",
       "      <td>44.01</td>\n",
       "    </tr>\n",
       "    <tr>\n",
       "      <th>2020-01-05 19:00:00</th>\n",
       "      <td>7520.9</td>\n",
       "      <td>140.18</td>\n",
       "      <td>NaN</td>\n",
       "      <td>NaN</td>\n",
       "      <td>0.21275</td>\n",
       "      <td>NaN</td>\n",
       "      <td>0.01405</td>\n",
       "      <td>44.06</td>\n",
       "    </tr>\n",
       "  </tbody>\n",
       "</table>\n",
       "</div>"
      ],
      "text/plain": [
       "                        BTC     ETH  DOT  OKB      XRP  SOL      TRX    LTC\n",
       "dt                                                                         \n",
       "2020-01-01 19:00:00  7131.9  129.56  NaN  NaN  0.19050  NaN  0.01312  41.17\n",
       "2020-01-02 19:00:00  7319.7  132.47  NaN  NaN  0.19203  NaN  0.01337  41.76\n",
       "2020-01-03 19:00:00  7318.9  133.29  NaN  NaN  0.19249  NaN  0.01335  42.28\n",
       "2020-01-04 19:00:00  7467.4  137.24  NaN  NaN  0.19628  NaN  0.01377  44.01\n",
       "2020-01-05 19:00:00  7520.9  140.18  NaN  NaN  0.21275  NaN  0.01405  44.06"
      ]
     },
     "execution_count": 2,
     "metadata": {},
     "output_type": "execute_result"
    }
   ],
   "source": [
    "df_prices = pd.read_csv('../code/data/crypto.csv', index_col='dt', parse_dates=['dt'])\n",
    "df_prices.drop('TON-USDT', axis=1, inplace=True)\n",
    "df_prices.columns = [c.split('-')[0] for c in df_prices.columns]\n",
    "df_prices.head()"
   ]
  },
  {
   "cell_type": "code",
   "execution_count": 4,
   "id": "a1656576-6d9b-4149-969c-ef7a7f2c747e",
   "metadata": {},
   "outputs": [
    {
     "name": "stdout",
     "output_type": "stream",
     "text": [
      "1095 8\n"
     ]
    },
    {
     "data": {
      "text/html": [
       "<div>\n",
       "<style scoped>\n",
       "    .dataframe tbody tr th:only-of-type {\n",
       "        vertical-align: middle;\n",
       "    }\n",
       "\n",
       "    .dataframe tbody tr th {\n",
       "        vertical-align: top;\n",
       "    }\n",
       "\n",
       "    .dataframe thead th {\n",
       "        text-align: right;\n",
       "    }\n",
       "</style>\n",
       "<table border=\"1\" class=\"dataframe\">\n",
       "  <thead>\n",
       "    <tr style=\"text-align: right;\">\n",
       "      <th></th>\n",
       "      <th>BTC</th>\n",
       "      <th>ETH</th>\n",
       "      <th>DOT</th>\n",
       "      <th>OKB</th>\n",
       "      <th>XRP</th>\n",
       "      <th>SOL</th>\n",
       "      <th>TRX</th>\n",
       "      <th>LTC</th>\n",
       "    </tr>\n",
       "    <tr>\n",
       "      <th>dt</th>\n",
       "      <th></th>\n",
       "      <th></th>\n",
       "      <th></th>\n",
       "      <th></th>\n",
       "      <th></th>\n",
       "      <th></th>\n",
       "      <th></th>\n",
       "      <th></th>\n",
       "    </tr>\n",
       "  </thead>\n",
       "  <tbody>\n",
       "    <tr>\n",
       "      <th>2022-01-01 19:00:00</th>\n",
       "      <td>-0.054014</td>\n",
       "      <td>-0.067913</td>\n",
       "      <td>-0.005263</td>\n",
       "      <td>-0.048031</td>\n",
       "      <td>-0.067994</td>\n",
       "      <td>-0.110254</td>\n",
       "      <td>-0.035776</td>\n",
       "      <td>-0.023856</td>\n",
       "    </tr>\n",
       "    <tr>\n",
       "      <th>2022-01-02 19:00:00</th>\n",
       "      <td>-0.092438</td>\n",
       "      <td>-0.075290</td>\n",
       "      <td>-0.067066</td>\n",
       "      <td>-0.070249</td>\n",
       "      <td>-0.103108</td>\n",
       "      <td>-0.151931</td>\n",
       "      <td>-0.058294</td>\n",
       "      <td>-0.065561</td>\n",
       "    </tr>\n",
       "    <tr>\n",
       "      <th>2022-01-03 19:00:00</th>\n",
       "      <td>-0.041478</td>\n",
       "      <td>-0.012844</td>\n",
       "      <td>0.008603</td>\n",
       "      <td>-0.035905</td>\n",
       "      <td>-0.054473</td>\n",
       "      <td>-0.072116</td>\n",
       "      <td>-0.022158</td>\n",
       "      <td>-0.004834</td>\n",
       "    </tr>\n",
       "    <tr>\n",
       "      <th>2022-01-04 19:00:00</th>\n",
       "      <td>-0.028151</td>\n",
       "      <td>0.006730</td>\n",
       "      <td>0.044412</td>\n",
       "      <td>-0.048068</td>\n",
       "      <td>-0.019920</td>\n",
       "      <td>-0.045850</td>\n",
       "      <td>-0.012687</td>\n",
       "      <td>-0.005669</td>\n",
       "    </tr>\n",
       "    <tr>\n",
       "      <th>2022-01-05 19:00:00</th>\n",
       "      <td>-0.088865</td>\n",
       "      <td>-0.083878</td>\n",
       "      <td>-0.050395</td>\n",
       "      <td>-0.093272</td>\n",
       "      <td>-0.089935</td>\n",
       "      <td>-0.138798</td>\n",
       "      <td>-0.092972</td>\n",
       "      <td>-0.086360</td>\n",
       "    </tr>\n",
       "  </tbody>\n",
       "</table>\n",
       "</div>"
      ],
      "text/plain": [
       "                          BTC       ETH       DOT       OKB       XRP  \\\n",
       "dt                                                                      \n",
       "2022-01-01 19:00:00 -0.054014 -0.067913 -0.005263 -0.048031 -0.067994   \n",
       "2022-01-02 19:00:00 -0.092438 -0.075290 -0.067066 -0.070249 -0.103108   \n",
       "2022-01-03 19:00:00 -0.041478 -0.012844  0.008603 -0.035905 -0.054473   \n",
       "2022-01-04 19:00:00 -0.028151  0.006730  0.044412 -0.048068 -0.019920   \n",
       "2022-01-05 19:00:00 -0.088865 -0.083878 -0.050395 -0.093272 -0.089935   \n",
       "\n",
       "                          SOL       TRX       LTC  \n",
       "dt                                                 \n",
       "2022-01-01 19:00:00 -0.110254 -0.035776 -0.023856  \n",
       "2022-01-02 19:00:00 -0.151931 -0.058294 -0.065561  \n",
       "2022-01-03 19:00:00 -0.072116 -0.022158 -0.004834  \n",
       "2022-01-04 19:00:00 -0.045850 -0.012687 -0.005669  \n",
       "2022-01-05 19:00:00 -0.138798 -0.092972 -0.086360  "
      ]
     },
     "execution_count": 4,
     "metadata": {},
     "output_type": "execute_result"
    }
   ],
   "source": [
    "days_shift = 7\n",
    "df_returns = df_prices.diff(days_shift) / df_prices.shift(days_shift)\n",
    "df_returns = df_returns[df_returns.isna().sum(axis=1) == 0]\n",
    "df_returns = df_returns[df_returns.index >= '2022-01-01']\n",
    "\n",
    "n_observations, n_assets = df_returns.shape\n",
    "print(n_observations, n_assets)\n",
    "df_returns.head()"
   ]
  },
  {
   "cell_type": "code",
   "execution_count": 5,
   "id": "12500855-11d1-48fa-b9cc-b9625dba93f2",
   "metadata": {},
   "outputs": [
    {
     "data": {
      "text/plain": [
       "0      -0.054014\n",
       "1      -0.092438\n",
       "2      -0.041478\n",
       "3      -0.028151\n",
       "4      -0.088865\n",
       "          ...   \n",
       "1090   -0.031560\n",
       "1091   -0.009079\n",
       "1092   -0.012196\n",
       "1093   -0.029430\n",
       "1094   -0.041456\n",
       "Name: BTC, Length: 1095, dtype: float64"
      ]
     },
     "execution_count": 5,
     "metadata": {},
     "output_type": "execute_result"
    }
   ],
   "source": [
    "y = df_returns['BTC'].reset_index(drop=True)\n",
    "y"
   ]
  },
  {
   "cell_type": "code",
   "execution_count": 7,
   "id": "8d60a5a3-3da8-4ca7-b6d0-6317dc99de4b",
   "metadata": {},
   "outputs": [],
   "source": [
    "lr = ForecasterRecursive(\n",
    "    regressor=LinearRegression(),\n",
    "    lags=range(1, 8),\n",
    ")\n",
    "\n",
    "arma = ForecasterSarimax(\n",
    "    regressor=Sarimax(order=(1, 0, 1)),\n",
    ")\n",
    "\n",
    "# cb = ForecasterRecursive(\n",
    "#     regressor=CatBoostRegressor(),\n",
    "#     lags=range(1, 8),\n",
    "# )\n",
    "\n",
    "ada = ForecasterRecursive(\n",
    "    regressor=AdaBoostRegressor(),\n",
    "    lags=range(1, 8),\n",
    ")"
   ]
  },
  {
   "cell_type": "code",
   "execution_count": 7,
   "id": "b2da27ed-9ff8-4c1d-a00f-8b0114c76dbc",
   "metadata": {},
   "outputs": [],
   "source": [
    "y_train, y_test = train_test_split(y, test_size=0.2, shuffle=False)"
   ]
  },
  {
   "cell_type": "code",
   "execution_count": 8,
   "id": "b61acdef-fdc5-4f40-91ce-27419162d344",
   "metadata": {},
   "outputs": [],
   "source": [
    "def mse_last_value(y_true, y_pred):\n",
    "    idxs = range(0, len(y_true), days_shift)\n",
    "    return metrics.mean_squared_error(y_true.iloc[idxs], y_pred.iloc[idxs])"
   ]
  },
  {
   "cell_type": "code",
   "execution_count": 9,
   "id": "8c80141c-e4bc-4c03-b4fc-0a89bf6f02f4",
   "metadata": {},
   "outputs": [
    {
     "data": {
      "text/html": [
       "<pre style=\"white-space:pre;overflow-x:auto;line-height:normal;font-family:Menlo,'DejaVu Sans Mono',consolas,'Courier New',monospace\"><span style=\"color: #ffaf00; text-decoration-color: #ffaf00\">╭──────────────────────────────── LongTrainingWarning ─────────────────────────────────╮</span>\n",
       "<span style=\"color: #ffaf00; text-decoration-color: #ffaf00\">│</span> The forecaster will be fit 1050 times (150 folds * 7 regressors). This can take      <span style=\"color: #ffaf00; text-decoration-color: #ffaf00\">│</span>\n",
       "<span style=\"color: #ffaf00; text-decoration-color: #ffaf00\">│</span> substantial amounts of time. If not feasible, try with `refit = False`.              <span style=\"color: #ffaf00; text-decoration-color: #ffaf00\">│</span>\n",
       "<span style=\"color: #ffaf00; text-decoration-color: #ffaf00\">│</span>                                                                                      <span style=\"color: #ffaf00; text-decoration-color: #ffaf00\">│</span>\n",
       "<span style=\"color: #ffaf00; text-decoration-color: #ffaf00\">│</span>                                                                                      <span style=\"color: #ffaf00; text-decoration-color: #ffaf00\">│</span>\n",
       "<span style=\"color: #ffaf00; text-decoration-color: #ffaf00\">│</span> Category : LongTrainingWarning                                                       <span style=\"color: #ffaf00; text-decoration-color: #ffaf00\">│</span>\n",
       "<span style=\"color: #ffaf00; text-decoration-color: #ffaf00\">│</span> Location :                                                                           <span style=\"color: #ffaf00; text-decoration-color: #ffaf00\">│</span>\n",
       "<span style=\"color: #ffaf00; text-decoration-color: #ffaf00\">│</span> C:\\Users\\tpolu\\AppData\\Roaming\\Python\\Python312\\site-packages\\skforecast\\model_selec <span style=\"color: #ffaf00; text-decoration-color: #ffaf00\">│</span>\n",
       "<span style=\"color: #ffaf00; text-decoration-color: #ffaf00\">│</span> tion\\_validation.py:231                                                              <span style=\"color: #ffaf00; text-decoration-color: #ffaf00\">│</span>\n",
       "<span style=\"color: #ffaf00; text-decoration-color: #ffaf00\">│</span> Suppress : warnings.simplefilter('ignore', category=LongTrainingWarning)             <span style=\"color: #ffaf00; text-decoration-color: #ffaf00\">│</span>\n",
       "<span style=\"color: #ffaf00; text-decoration-color: #ffaf00\">╰──────────────────────────────────────────────────────────────────────────────────────╯</span>\n",
       "</pre>\n"
      ],
      "text/plain": [
       "\u001b[38;5;214m╭─\u001b[0m\u001b[38;5;214m───────────────────────────────\u001b[0m\u001b[38;5;214m LongTrainingWarning \u001b[0m\u001b[38;5;214m────────────────────────────────\u001b[0m\u001b[38;5;214m─╮\u001b[0m\n",
       "\u001b[38;5;214m│\u001b[0m The forecaster will be fit 1050 times (150 folds * 7 regressors). This can take      \u001b[38;5;214m│\u001b[0m\n",
       "\u001b[38;5;214m│\u001b[0m substantial amounts of time. If not feasible, try with `refit = False`.              \u001b[38;5;214m│\u001b[0m\n",
       "\u001b[38;5;214m│\u001b[0m                                                                                      \u001b[38;5;214m│\u001b[0m\n",
       "\u001b[38;5;214m│\u001b[0m                                                                                      \u001b[38;5;214m│\u001b[0m\n",
       "\u001b[38;5;214m│\u001b[0m Category : LongTrainingWarning                                                       \u001b[38;5;214m│\u001b[0m\n",
       "\u001b[38;5;214m│\u001b[0m Location :                                                                           \u001b[38;5;214m│\u001b[0m\n",
       "\u001b[38;5;214m│\u001b[0m C:\\Users\\tpolu\\AppData\\Roaming\\Python\\Python312\\site-packages\\skforecast\\model_selec \u001b[38;5;214m│\u001b[0m\n",
       "\u001b[38;5;214m│\u001b[0m tion\\_validation.py:231                                                              \u001b[38;5;214m│\u001b[0m\n",
       "\u001b[38;5;214m│\u001b[0m Suppress : warnings.simplefilter('ignore', category=LongTrainingWarning)             \u001b[38;5;214m│\u001b[0m\n",
       "\u001b[38;5;214m╰──────────────────────────────────────────────────────────────────────────────────────╯\u001b[0m\n"
      ]
     },
     "metadata": {},
     "output_type": "display_data"
    },
    {
     "data": {
      "application/vnd.jupyter.widget-view+json": {
       "model_id": "a7c0a58c29b54c5694881c66c63861a9",
       "version_major": 2,
       "version_minor": 0
      },
      "text/plain": [
       "  0%|          | 0/150 [00:00<?, ?it/s]"
      ]
     },
     "metadata": {},
     "output_type": "display_data"
    }
   ],
   "source": [
    "cv = TimeSeriesFold(\n",
    "    steps=days_shift,\n",
    "    initial_train_size=50,\n",
    "    refit=True,\n",
    ")\n",
    "metric, pred = backtesting_forecaster(\n",
    "    forecaster=lr,\n",
    "    y=y,\n",
    "    cv=cv,\n",
    "    metric=mse_last_value,\n",
    "    n_jobs=-1,\n",
    ")"
   ]
  },
  {
   "cell_type": "code",
   "execution_count": 8,
   "id": "063ea320-daa7-4cbd-a44b-9ff39981c7e6",
   "metadata": {},
   "outputs": [],
   "source": [
    "def portfolio_optimizer(mu_hat, cov_hat, tau):\n",
    "    def objective(w):\n",
    "        w = w.reshape((-1, 1))\n",
    "        return (w.T @ cov_hat @ w - tau * w.T @ mu_hat).item()\n",
    "        \n",
    "    def unit_portfolio(w):\n",
    "        return np.abs(w).sum() - 1\n",
    "        \n",
    "    eq_cons = {\n",
    "        'type': 'eq',\n",
    "        'fun': unit_portfolio,\n",
    "    }\n",
    "    bounds = [(-1, 1) for i in range(n_assets)]\n",
    "    x0 = np.ones(n_assets) / n_assets\n",
    "    sol = opt.minimize(\n",
    "        fun=objective,\n",
    "        x0=x0,\n",
    "        method='SLSQP',\n",
    "        bounds=bounds,\n",
    "        constraints=[eq_cons]\n",
    "    )\n",
    "    if sol.success:\n",
    "        return sol.x"
   ]
  },
  {
   "cell_type": "code",
   "execution_count": 44,
   "id": "e1159137-b3a3-4f1f-a056-0717d9ee319d",
   "metadata": {},
   "outputs": [],
   "source": [
    "def frontier_evaluator(mu_hat, cov_hat, ret_true):\n",
    "    frontier_tau = np.linspace(0.01, 1, 5)\n",
    "    frontier = np.full_like(frontier_tau, np.nan)\n",
    "    for i in range(len(frontier_tau)):\n",
    "        tau = frontier_tau[i]\n",
    "        w = portfolio_optimizer(mu_hat, cov_hat, tau)\n",
    "        if w is None:\n",
    "            print('not converged')\n",
    "            continue\n",
    "        roi = np.dot(w, ret_true)\n",
    "        frontier[i] = roi\n",
    "    return frontier"
   ]
  },
  {
   "cell_type": "code",
   "execution_count": 10,
   "id": "6cbfca67-6007-44cb-94aa-453c17a0e03e",
   "metadata": {},
   "outputs": [],
   "source": [
    "# mu estimators\n",
    "\n",
    "def naive_estimator(df_hist):\n",
    "    return df_hist.mean(axis=0)\n",
    "\n",
    "def martingal_estimator(df_hist):\n",
    "    return df_hist.iloc[-1]\n",
    "\n",
    "def lr_estimator(df_hist):\n",
    "    mu_hat = []\n",
    "    for c in df_hist.columns:\n",
    "        y = df_hist[c].reset_index(drop=True)\n",
    "        lr.fit(y)\n",
    "        mu_hat.append(lr.predict(days_shift).iloc[-1])\n",
    "    return np.array(mu_hat)\n",
    "\n",
    "def arma_estimator(df_hist):\n",
    "    mu_hat = []\n",
    "    for c in df_hist.columns:\n",
    "        y = df_hist[c].reset_index(drop=True)\n",
    "        arma.fit(y)\n",
    "        mu_hat.append(arma.predict(days_shift).iloc[-1])\n",
    "    return np.array(mu_hat)\n",
    "    \n",
    "def catboost_estimator(df_hist):\n",
    "    mu_hat = []\n",
    "    for c in df_hist.columns:\n",
    "        y = df_hist[c].reset_index(drop=True)\n",
    "        cb.fit(y)\n",
    "        mu_hat.append(cb.predict(days_shift).iloc[-1])\n",
    "    return np.array(mu_hat)\n",
    "\n",
    "def adaboost_estimator(df_hist):\n",
    "    mu_hat = []\n",
    "    for c in df_hist.columns:\n",
    "        y = df_hist[c].reset_index(drop=True)\n",
    "        ada.fit(y)\n",
    "        mu_hat.append(ada.predict(days_shift).iloc[-1])\n",
    "    return np.array(mu_hat)"
   ]
  },
  {
   "cell_type": "code",
   "execution_count": 17,
   "id": "bc288063-a954-4ea3-8f12-2add75e528c5",
   "metadata": {},
   "outputs": [
    {
     "data": {
      "text/plain": [
       "(1095, 8)"
      ]
     },
     "execution_count": 17,
     "metadata": {},
     "output_type": "execute_result"
    }
   ],
   "source": [
    "df_returns.shape"
   ]
  },
  {
   "cell_type": "code",
   "execution_count": 51,
   "id": "22cd3a77-9d50-44a7-919f-07fb54d9dbf6",
   "metadata": {},
   "outputs": [
    {
     "data": {
      "text/plain": [
       "((729, 8), (366, 8))"
      ]
     },
     "execution_count": 51,
     "metadata": {},
     "output_type": "execute_result"
    }
   ],
   "source": [
    "threshold_date = '2024-01-01'\n",
    "df_returns_test = df_returns[df_returns.index >= threshold_date]\n",
    "df_returns_train = df_returns[df_returns.index < threshold_date]\n",
    "df_returns_train.shape, df_returns_test.shape"
   ]
  },
  {
   "cell_type": "code",
   "execution_count": 53,
   "id": "9e7fced8-e180-4227-a924-5e5d11073417",
   "metadata": {},
   "outputs": [
    {
     "name": "stdout",
     "output_type": "stream",
     "text": [
      "5 6 3 2\n"
     ]
    }
   ],
   "source": [
    "n_assets = df_returns.shape[1]\n",
    "\n",
    "idx_most_risky = np.argmax(df_returns_train.describe().T['std'])\n",
    "idx_less_risky = np.argmin(df_returns_train.describe().T['std'])\n",
    "idx_best_return = np.argmax(df_returns_train.describe().T['mean'])\n",
    "idx_worst_return = np.argmin(df_returns_train.describe().T['mean'])\n",
    "print(idx_most_risky, idx_less_risky, idx_best_return, idx_worst_return)\n",
    "\n",
    "def single_asset_portfolio_builder(idx):\n",
    "    w =  np.zeros(n_assets)\n",
    "    w[idx] = 1\n",
    "    return w\n",
    "\n",
    "def uniform_portfolio_builder():\n",
    "    return np.full(n_assets, 1 / n_assets)\n"
   ]
  },
  {
   "cell_type": "code",
   "execution_count": 45,
   "id": "6d8cd9d3-b75b-43a1-a9f7-075b89af2a45",
   "metadata": {
    "scrolled": true
   },
   "outputs": [
    {
     "name": "stdout",
     "output_type": "stream",
     "text": [
      "50\n"
     ]
    },
    {
     "name": "stderr",
     "output_type": "stream",
     "text": [
      "  0%|                                                                                           | 0/50 [00:00<?, ?it/s]"
     ]
    },
    {
     "name": "stdout",
     "output_type": "stream",
     "text": [
      "not converged\n",
      "not converged\n"
     ]
    },
    {
     "name": "stderr",
     "output_type": "stream",
     "text": [
      "  2%|█▋                                                                                 | 1/50 [00:02<02:12,  2.71s/it]"
     ]
    },
    {
     "name": "stdout",
     "output_type": "stream",
     "text": [
      "not converged\n",
      "not converged\n",
      "not converged\n"
     ]
    },
    {
     "name": "stderr",
     "output_type": "stream",
     "text": [
      "  4%|███▎                                                                               | 2/50 [00:05<02:13,  2.79s/it]"
     ]
    },
    {
     "name": "stdout",
     "output_type": "stream",
     "text": [
      "not converged\n",
      "not converged\n",
      "not converged\n",
      "not converged\n",
      "not converged\n",
      "not converged\n",
      "not converged\n",
      "not converged\n"
     ]
    },
    {
     "name": "stderr",
     "output_type": "stream",
     "text": [
      "  6%|████▉                                                                              | 3/50 [00:08<02:11,  2.80s/it]"
     ]
    },
    {
     "name": "stdout",
     "output_type": "stream",
     "text": [
      "not converged\n",
      "not converged\n",
      "not converged\n",
      "not converged\n"
     ]
    },
    {
     "name": "stderr",
     "output_type": "stream",
     "text": [
      "  8%|██████▋                                                                            | 4/50 [00:11<02:08,  2.79s/it]"
     ]
    },
    {
     "name": "stdout",
     "output_type": "stream",
     "text": [
      "not converged\n",
      "not converged\n",
      "not converged\n",
      "not converged\n",
      "not converged\n",
      "not converged\n",
      "not converged\n",
      "not converged\n"
     ]
    },
    {
     "name": "stderr",
     "output_type": "stream",
     "text": [
      " 10%|████████▎                                                                          | 5/50 [00:13<02:05,  2.80s/it]"
     ]
    },
    {
     "name": "stdout",
     "output_type": "stream",
     "text": [
      "not converged\n",
      "not converged\n",
      "not converged\n",
      "not converged\n"
     ]
    },
    {
     "name": "stderr",
     "output_type": "stream",
     "text": [
      " 12%|█████████▉                                                                         | 6/50 [00:16<02:01,  2.76s/it]"
     ]
    },
    {
     "name": "stdout",
     "output_type": "stream",
     "text": [
      "not converged\n",
      "not converged\n",
      "not converged\n"
     ]
    },
    {
     "name": "stderr",
     "output_type": "stream",
     "text": [
      " 14%|███████████▌                                                                       | 7/50 [00:19<01:57,  2.73s/it]"
     ]
    },
    {
     "name": "stdout",
     "output_type": "stream",
     "text": [
      "not converged\n",
      "not converged\n"
     ]
    },
    {
     "name": "stderr",
     "output_type": "stream",
     "text": [
      " 16%|█████████████▎                                                                     | 8/50 [00:21<01:52,  2.69s/it]"
     ]
    },
    {
     "name": "stdout",
     "output_type": "stream",
     "text": [
      "not converged\n",
      "not converged\n"
     ]
    },
    {
     "name": "stderr",
     "output_type": "stream",
     "text": [
      " 18%|██████████████▉                                                                    | 9/50 [00:24<01:51,  2.72s/it]"
     ]
    },
    {
     "name": "stdout",
     "output_type": "stream",
     "text": [
      "not converged\n",
      "not converged\n",
      "not converged\n"
     ]
    },
    {
     "name": "stderr",
     "output_type": "stream",
     "text": [
      " 20%|████████████████▍                                                                 | 10/50 [00:27<01:47,  2.70s/it]"
     ]
    },
    {
     "name": "stdout",
     "output_type": "stream",
     "text": [
      "not converged\n",
      "not converged\n"
     ]
    },
    {
     "name": "stderr",
     "output_type": "stream",
     "text": [
      " 22%|██████████████████                                                                | 11/50 [00:29<01:42,  2.64s/it]"
     ]
    },
    {
     "name": "stdout",
     "output_type": "stream",
     "text": [
      "not converged\n"
     ]
    },
    {
     "name": "stderr",
     "output_type": "stream",
     "text": [
      "C:\\Users\\tpolu\\AppData\\Roaming\\Python\\Python312\\site-packages\\statsmodels\\base\\model.py:607: ConvergenceWarning: Maximum Likelihood optimization failed to converge. Check mle_retvals\n",
      "  warnings.warn(\"Maximum Likelihood optimization failed to \"\n"
     ]
    },
    {
     "name": "stdout",
     "output_type": "stream",
     "text": [
      "not converged\n",
      "not converged\n",
      "not converged\n"
     ]
    },
    {
     "name": "stderr",
     "output_type": "stream",
     "text": [
      " 26%|█████████████████████▎                                                            | 13/50 [00:35<01:36,  2.61s/it]"
     ]
    },
    {
     "name": "stdout",
     "output_type": "stream",
     "text": [
      "not converged\n",
      "not converged\n",
      "not converged\n",
      "not converged\n"
     ]
    },
    {
     "name": "stderr",
     "output_type": "stream",
     "text": [
      " 28%|██████████████████████▉                                                           | 14/50 [00:37<01:33,  2.60s/it]"
     ]
    },
    {
     "name": "stdout",
     "output_type": "stream",
     "text": [
      "not converged\n",
      "not converged\n"
     ]
    },
    {
     "name": "stderr",
     "output_type": "stream",
     "text": [
      " 30%|████████████████████████▌                                                         | 15/50 [00:40<01:32,  2.64s/it]"
     ]
    },
    {
     "name": "stdout",
     "output_type": "stream",
     "text": [
      "not converged\n",
      "not converged\n",
      "not converged\n"
     ]
    },
    {
     "name": "stderr",
     "output_type": "stream",
     "text": [
      " 34%|███████████████████████████▉                                                      | 17/50 [00:45<01:24,  2.57s/it]"
     ]
    },
    {
     "name": "stdout",
     "output_type": "stream",
     "text": [
      "not converged\n",
      "not converged\n",
      "not converged\n"
     ]
    },
    {
     "name": "stderr",
     "output_type": "stream",
     "text": [
      " 36%|█████████████████████████████▌                                                    | 18/50 [00:47<01:20,  2.53s/it]"
     ]
    },
    {
     "name": "stdout",
     "output_type": "stream",
     "text": [
      "not converged\n",
      "not converged\n",
      "not converged\n",
      "not converged\n"
     ]
    },
    {
     "name": "stderr",
     "output_type": "stream",
     "text": [
      "C:\\Users\\tpolu\\AppData\\Roaming\\Python\\Python312\\site-packages\\statsmodels\\base\\model.py:607: ConvergenceWarning: Maximum Likelihood optimization failed to converge. Check mle_retvals\n",
      "  warnings.warn(\"Maximum Likelihood optimization failed to \"\n",
      " 38%|███████████████████████████████▏                                                  | 19/50 [00:50<01:18,  2.55s/it]"
     ]
    },
    {
     "name": "stdout",
     "output_type": "stream",
     "text": [
      "not converged\n",
      "not converged\n",
      "not converged\n",
      "not converged\n",
      "not converged\n"
     ]
    },
    {
     "name": "stderr",
     "output_type": "stream",
     "text": [
      " 44%|████████████████████████████████████                                              | 22/50 [00:58<01:11,  2.56s/it]"
     ]
    },
    {
     "name": "stdout",
     "output_type": "stream",
     "text": [
      "not converged\n",
      "not converged\n",
      "not converged\n"
     ]
    },
    {
     "name": "stderr",
     "output_type": "stream",
     "text": [
      " 46%|█████████████████████████████████████▋                                            | 23/50 [01:00<01:09,  2.57s/it]"
     ]
    },
    {
     "name": "stdout",
     "output_type": "stream",
     "text": [
      "not converged\n"
     ]
    },
    {
     "name": "stderr",
     "output_type": "stream",
     "text": [
      "C:\\Users\\tpolu\\AppData\\Roaming\\Python\\Python312\\site-packages\\statsmodels\\base\\model.py:607: ConvergenceWarning: Maximum Likelihood optimization failed to converge. Check mle_retvals\n",
      "  warnings.warn(\"Maximum Likelihood optimization failed to \"\n"
     ]
    },
    {
     "name": "stdout",
     "output_type": "stream",
     "text": [
      "not converged\n",
      "not converged\n"
     ]
    },
    {
     "name": "stderr",
     "output_type": "stream",
     "text": [
      " 50%|█████████████████████████████████████████                                         | 25/50 [01:05<01:03,  2.54s/it]"
     ]
    },
    {
     "name": "stdout",
     "output_type": "stream",
     "text": [
      "not converged\n"
     ]
    },
    {
     "name": "stderr",
     "output_type": "stream",
     "text": [
      " 52%|██████████████████████████████████████████▋                                       | 26/50 [01:08<00:59,  2.48s/it]"
     ]
    },
    {
     "name": "stdout",
     "output_type": "stream",
     "text": [
      "not converged\n"
     ]
    },
    {
     "name": "stderr",
     "output_type": "stream",
     "text": [
      "C:\\Users\\tpolu\\AppData\\Roaming\\Python\\Python312\\site-packages\\statsmodels\\base\\model.py:607: ConvergenceWarning: Maximum Likelihood optimization failed to converge. Check mle_retvals\n",
      "  warnings.warn(\"Maximum Likelihood optimization failed to \"\n",
      " 54%|████████████████████████████████████████████▎                                     | 27/50 [01:10<00:57,  2.49s/it]"
     ]
    },
    {
     "name": "stdout",
     "output_type": "stream",
     "text": [
      "not converged\n",
      "not converged\n",
      "not converged\n",
      "not converged\n"
     ]
    },
    {
     "name": "stderr",
     "output_type": "stream",
     "text": [
      " 56%|█████████████████████████████████████████████▉                                    | 28/50 [01:13<00:54,  2.49s/it]"
     ]
    },
    {
     "name": "stdout",
     "output_type": "stream",
     "text": [
      "not converged\n"
     ]
    },
    {
     "name": "stderr",
     "output_type": "stream",
     "text": [
      "C:\\Users\\tpolu\\AppData\\Roaming\\Python\\Python312\\site-packages\\statsmodels\\base\\model.py:607: ConvergenceWarning: Maximum Likelihood optimization failed to converge. Check mle_retvals\n",
      "  warnings.warn(\"Maximum Likelihood optimization failed to \"\n",
      " 58%|███████████████████████████████████████████████▌                                  | 29/50 [01:15<00:52,  2.50s/it]"
     ]
    },
    {
     "name": "stdout",
     "output_type": "stream",
     "text": [
      "not converged\n",
      "not converged\n"
     ]
    },
    {
     "name": "stderr",
     "output_type": "stream",
     "text": [
      " 60%|█████████████████████████████████████████████████▏                                | 30/50 [01:18<00:49,  2.49s/it]"
     ]
    },
    {
     "name": "stdout",
     "output_type": "stream",
     "text": [
      "not converged\n",
      "not converged\n"
     ]
    },
    {
     "name": "stderr",
     "output_type": "stream",
     "text": [
      "C:\\Users\\tpolu\\AppData\\Roaming\\Python\\Python312\\site-packages\\statsmodels\\base\\model.py:607: ConvergenceWarning: Maximum Likelihood optimization failed to converge. Check mle_retvals\n",
      "  warnings.warn(\"Maximum Likelihood optimization failed to \"\n",
      " 62%|██████████████████████████████████████████████████▊                               | 31/50 [01:20<00:47,  2.50s/it]"
     ]
    },
    {
     "name": "stdout",
     "output_type": "stream",
     "text": [
      "not converged\n",
      "not converged\n"
     ]
    },
    {
     "name": "stderr",
     "output_type": "stream",
     "text": [
      " 64%|████████████████████████████████████████████████████▍                             | 32/50 [01:23<00:44,  2.49s/it]"
     ]
    },
    {
     "name": "stdout",
     "output_type": "stream",
     "text": [
      "not converged\n",
      "not converged\n"
     ]
    },
    {
     "name": "stderr",
     "output_type": "stream",
     "text": [
      " 66%|██████████████████████████████████████████████████████                            | 33/50 [01:25<00:41,  2.45s/it]"
     ]
    },
    {
     "name": "stdout",
     "output_type": "stream",
     "text": [
      "not converged\n"
     ]
    },
    {
     "name": "stderr",
     "output_type": "stream",
     "text": [
      " 70%|█████████████████████████████████████████████████████████▍                        | 35/50 [01:30<00:36,  2.44s/it]"
     ]
    },
    {
     "name": "stdout",
     "output_type": "stream",
     "text": [
      "not converged\n"
     ]
    },
    {
     "name": "stderr",
     "output_type": "stream",
     "text": [
      "C:\\Users\\tpolu\\AppData\\Roaming\\Python\\Python312\\site-packages\\statsmodels\\base\\model.py:607: ConvergenceWarning: Maximum Likelihood optimization failed to converge. Check mle_retvals\n",
      "  warnings.warn(\"Maximum Likelihood optimization failed to \"\n",
      " 72%|███████████████████████████████████████████████████████████                       | 36/50 [01:32<00:33,  2.43s/it]"
     ]
    },
    {
     "name": "stdout",
     "output_type": "stream",
     "text": [
      "not converged\n"
     ]
    },
    {
     "name": "stderr",
     "output_type": "stream",
     "text": [
      " 74%|████████████████████████████████████████████████████████████▋                     | 37/50 [01:35<00:31,  2.41s/it]"
     ]
    },
    {
     "name": "stdout",
     "output_type": "stream",
     "text": [
      "not converged\n"
     ]
    },
    {
     "name": "stderr",
     "output_type": "stream",
     "text": [
      " 78%|███████████████████████████████████████████████████████████████▉                  | 39/50 [01:39<00:26,  2.40s/it]"
     ]
    },
    {
     "name": "stdout",
     "output_type": "stream",
     "text": [
      "not converged\n",
      "not converged\n"
     ]
    },
    {
     "name": "stderr",
     "output_type": "stream",
     "text": [
      "C:\\Users\\tpolu\\AppData\\Roaming\\Python\\Python312\\site-packages\\statsmodels\\base\\model.py:607: ConvergenceWarning: Maximum Likelihood optimization failed to converge. Check mle_retvals\n",
      "  warnings.warn(\"Maximum Likelihood optimization failed to \"\n"
     ]
    },
    {
     "name": "stdout",
     "output_type": "stream",
     "text": [
      "not converged\n",
      "not converged\n"
     ]
    },
    {
     "name": "stderr",
     "output_type": "stream",
     "text": [
      " 80%|█████████████████████████████████████████████████████████████████▌                | 40/50 [01:42<00:24,  2.45s/it]"
     ]
    },
    {
     "name": "stdout",
     "output_type": "stream",
     "text": [
      "not converged\n",
      "not converged\n",
      "not converged\n",
      "not converged\n"
     ]
    },
    {
     "name": "stderr",
     "output_type": "stream",
     "text": [
      "C:\\Users\\tpolu\\AppData\\Roaming\\Python\\Python312\\site-packages\\statsmodels\\base\\model.py:607: ConvergenceWarning: Maximum Likelihood optimization failed to converge. Check mle_retvals\n",
      "  warnings.warn(\"Maximum Likelihood optimization failed to \"\n"
     ]
    },
    {
     "name": "stdout",
     "output_type": "stream",
     "text": [
      "not converged\n",
      "not converged\n"
     ]
    },
    {
     "name": "stderr",
     "output_type": "stream",
     "text": [
      " 82%|███████████████████████████████████████████████████████████████████▏              | 41/50 [01:45<00:22,  2.53s/it]"
     ]
    },
    {
     "name": "stdout",
     "output_type": "stream",
     "text": [
      "not converged\n",
      "not converged\n",
      "not converged\n",
      "not converged\n",
      "not converged\n",
      "not converged\n",
      "not converged\n"
     ]
    },
    {
     "name": "stderr",
     "output_type": "stream",
     "text": [
      " 84%|████████████████████████████████████████████████████████████████████▉             | 42/50 [01:47<00:20,  2.60s/it]"
     ]
    },
    {
     "name": "stdout",
     "output_type": "stream",
     "text": [
      "not converged\n",
      "not converged\n"
     ]
    },
    {
     "name": "stderr",
     "output_type": "stream",
     "text": [
      " 86%|██████████████████████████████████████████████████████████████████████▌           | 43/50 [01:50<00:18,  2.61s/it]"
     ]
    },
    {
     "name": "stdout",
     "output_type": "stream",
     "text": [
      "not converged\n",
      "not converged\n",
      "not converged\n"
     ]
    },
    {
     "name": "stderr",
     "output_type": "stream",
     "text": [
      "C:\\Users\\tpolu\\AppData\\Roaming\\Python\\Python312\\site-packages\\statsmodels\\base\\model.py:607: ConvergenceWarning: Maximum Likelihood optimization failed to converge. Check mle_retvals\n",
      "  warnings.warn(\"Maximum Likelihood optimization failed to \"\n",
      " 88%|████████████████████████████████████████████████████████████████████████▏         | 44/50 [01:53<00:15,  2.60s/it]"
     ]
    },
    {
     "name": "stdout",
     "output_type": "stream",
     "text": [
      "not converged\n",
      "not converged\n"
     ]
    },
    {
     "name": "stderr",
     "output_type": "stream",
     "text": [
      " 90%|█████████████████████████████████████████████████████████████████████████▊        | 45/50 [01:55<00:12,  2.52s/it]"
     ]
    },
    {
     "name": "stdout",
     "output_type": "stream",
     "text": [
      "not converged\n",
      "not converged\n",
      "not converged\n",
      "not converged\n"
     ]
    },
    {
     "name": "stderr",
     "output_type": "stream",
     "text": [
      " 92%|███████████████████████████████████████████████████████████████████████████▍      | 46/50 [01:57<00:10,  2.51s/it]"
     ]
    },
    {
     "name": "stdout",
     "output_type": "stream",
     "text": [
      "not converged\n",
      "not converged\n",
      "not converged\n",
      "not converged\n"
     ]
    },
    {
     "name": "stderr",
     "output_type": "stream",
     "text": [
      " 94%|█████████████████████████████████████████████████████████████████████████████     | 47/50 [02:00<00:07,  2.51s/it]"
     ]
    },
    {
     "name": "stdout",
     "output_type": "stream",
     "text": [
      "not converged\n",
      "not converged\n",
      "not converged\n",
      "not converged\n",
      "not converged\n",
      "not converged\n"
     ]
    },
    {
     "name": "stderr",
     "output_type": "stream",
     "text": [
      " 96%|██████████████████████████████████████████████████████████████████████████████▋   | 48/50 [02:03<00:05,  2.55s/it]"
     ]
    },
    {
     "name": "stdout",
     "output_type": "stream",
     "text": [
      "not converged\n",
      "not converged\n",
      "not converged\n",
      "not converged\n"
     ]
    },
    {
     "name": "stderr",
     "output_type": "stream",
     "text": [
      "100%|██████████████████████████████████████████████████████████████████████████████████| 50/50 [02:07<00:00,  2.56s/it]"
     ]
    },
    {
     "name": "stdout",
     "output_type": "stream",
     "text": [
      "not converged\n"
     ]
    },
    {
     "name": "stderr",
     "output_type": "stream",
     "text": [
      "\n"
     ]
    }
   ],
   "source": [
    "results_frontier = []\n",
    "results_trivial = []\n",
    "\n",
    "min_history_leng = 66\n",
    "total_runs = df_returns_test.shape[0] - days_shift - min_history_leng\n",
    "total_runs = 50\n",
    "print(total_runs)\n",
    "\n",
    "\n",
    "mu_estimators = [\n",
    "    ('naive', naive_estimator),\n",
    "    ('martingal', martingal_estimator),\n",
    "    ('lr', lr_estimator),\n",
    "    ('arma', arma_estimator),\n",
    "    ('ada', adaboost_estimator),\n",
    "]\n",
    "\n",
    "trivial_portfolios = [\n",
    "    ('uniform', uniform_portfolio_builder()),\n",
    "    ('most_risky', single_asset_portfolio_builder(idx_most_risky)),\n",
    "    ('less_risky', single_asset_portfolio_builder(idx_less_risky)),\n",
    "    ('best_return', single_asset_portfolio_builder(idx_best_return)),\n",
    "    ('worst_return', single_asset_portfolio_builder(idx_worst_return)),\n",
    "]\n",
    "\n",
    "for t in tqdm.trange(total_runs):\n",
    "    # prepare data\n",
    "    idx_history = min_history_leng + t\n",
    "    idx_future = idx_history + days_shift - 1\n",
    "    df_history = df_returns_test.iloc[:idx_history]\n",
    "    df_future = df_returns_test.iloc[idx_future]\n",
    "\n",
    "    # estimate cov, common for all models\n",
    "    cov_hat = df_history.cov().values\n",
    "\n",
    "    # estimate mu using list of models\n",
    "    frontiers = []\n",
    "    for name, mu_estimator in mu_estimators:\n",
    "        mu_hat = mu_estimator(df_history)\n",
    "        \n",
    "        # evaluate each portfolio in frontier for currnet model\n",
    "        roi_frontier = frontier_evaluator(mu_hat, cov_hat, df_future.values)\n",
    "        frontiers.append(roi_frontier)\n",
    "    results_frontier.append(frontiers)\n",
    "    \n",
    "    # evaluate trivial strategies \n",
    "    trivials = []\n",
    "    for name, w in trivial_portfolios:\n",
    "        roi = np.dot(w, df_future.values).item()\n",
    "        trivials.append(roi)\n",
    "    results_trivial.append(trivials)\n"
   ]
  },
  {
   "cell_type": "code",
   "execution_count": 46,
   "id": "0b2bb6cc-fc67-4241-ab0c-2488c597be62",
   "metadata": {},
   "outputs": [
    {
     "data": {
      "text/plain": [
       "(array([-0.02310812, -0.00117554, -0.01581977, -0.02876441, -0.05718594]),\n",
       " array([0.0700132 , 0.15196405, 0.06255487, 0.08308433, 0.10020013]))"
      ]
     },
     "execution_count": 46,
     "metadata": {},
     "output_type": "execute_result"
    }
   ],
   "source": [
    "np.array(results_trivial).mean(axis=0), np.array(results_trivial).std(axis=0)"
   ]
  },
  {
   "cell_type": "code",
   "execution_count": 47,
   "id": "e415a99a-3abc-4fa6-849b-80591e7c492d",
   "metadata": {},
   "outputs": [],
   "source": [
    "frontier_means = np.nanmean(results_frontier, axis=0)\n",
    "frontier_stds = np.nanstd(results_frontier, axis=0)\n",
    "\n",
    "trivial_means = np.mean(results_trivial, axis=0)\n",
    "trivial_stds = np.std(results_trivial, axis=0)"
   ]
  },
  {
   "cell_type": "code",
   "execution_count": 57,
   "id": "d9d94ab9-6228-4554-bf3d-7d385018c9d0",
   "metadata": {},
   "outputs": [
    {
     "data": {
      "text/plain": [
       "<matplotlib.legend.Legend at 0x151dac6c920>"
      ]
     },
     "execution_count": 57,
     "metadata": {},
     "output_type": "execute_result"
    },
    {
     "data": {
      "image/png": "[encoded data removed]",
      "text/plain": [
       "<Figure size 640x480 with 1 Axes>"
      ]
     },
     "metadata": {},
     "output_type": "display_data"
    }
   ],
   "source": [
    "fig, ax = plt.subplots()\n",
    "for m, s, (label, _) in zip(frontier_means, frontier_stds, mu_estimators):\n",
    "    ax.plot(s, m, marker='o', label=label)\n",
    "\n",
    "ax.scatter(trivial_stds, trivial_means, color='grey')\n",
    "for s, m, (name, _) in zip(trivial_stds, trivial_means, trivial_portfolios):\n",
    "    ax.text(s + 0.003, m, name)\n",
    "    \n",
    "ax.set_xlabel('ROI std')\n",
    "ax.set_ylabel('ROI mean')\n",
    "ax.set_xlim(0, 0.2)\n",
    "ax.legend()"
   ]
  },
  {
   "cell_type": "code",
   "execution_count": null,
   "id": "4cc9b0e2-5ed0-4839-8ba5-8207ec6739a3",
   "metadata": {},
   "outputs": [],
   "source": []
  },
  {
   "cell_type": "code",
   "execution_count": null,
   "id": "14b0af00-f26d-45c3-9f50-858f6030667f",
   "metadata": {},
   "outputs": [],
   "source": []
  },
  {
   "cell_type": "code",
   "execution_count": 122,
   "id": "db27fdae-1fa5-4141-96ac-64aa721377bc",
   "metadata": {},
   "outputs": [
    {
     "data": {
      "application/vnd.jupyter.widget-view+json": {
       "model_id": "81aee059b6d74e1e83f907d1fcc7db63",
       "version_major": 2,
       "version_minor": 0
      },
      "text/plain": [
       "lags grid:   0%|          | 0/3 [00:00<?, ?it/s]"
      ]
     },
     "metadata": {},
     "output_type": "display_data"
    },
    {
     "data": {
      "application/vnd.jupyter.widget-view+json": {
       "model_id": "a754955491874e04b28cddbb95f6f99a",
       "version_major": 2,
       "version_minor": 0
      },
      "text/plain": [
       "params grid:   0%|          | 0/4 [00:00<?, ?it/s]"
      ]
     },
     "metadata": {},
     "output_type": "display_data"
    },
    {
     "name": "stdout",
     "output_type": "stream",
     "text": [
      "`Forecaster` refitted using the best-found lags and parameters, and the whole data set: \n",
      "  Lags: [1] \n",
      "  Parameters: {'alpha': 10}\n",
      "  Backtesting metric: 0.03184047710184139\n"
     ]
    },
    {
     "data": {
      "text/html": [
       "<div>\n",
       "<style scoped>\n",
       "    .dataframe tbody tr th:only-of-type {\n",
       "        vertical-align: middle;\n",
       "    }\n",
       "\n",
       "    .dataframe tbody tr th {\n",
       "        vertical-align: top;\n",
       "    }\n",
       "\n",
       "    .dataframe thead th {\n",
       "        text-align: right;\n",
       "    }\n",
       "</style>\n",
       "<table border=\"1\" class=\"dataframe\">\n",
       "  <thead>\n",
       "    <tr style=\"text-align: right;\">\n",
       "      <th></th>\n",
       "      <th>lags</th>\n",
       "      <th>lags_label</th>\n",
       "      <th>params</th>\n",
       "      <th>mse_last_value</th>\n",
       "      <th>alpha</th>\n",
       "    </tr>\n",
       "  </thead>\n",
       "  <tbody>\n",
       "    <tr>\n",
       "      <th>0</th>\n",
       "      <td>[1]</td>\n",
       "      <td>lags_1</td>\n",
       "      <td>{'alpha': 10}</td>\n",
       "      <td>0.031840</td>\n",
       "      <td>10.00</td>\n",
       "    </tr>\n",
       "    <tr>\n",
       "      <th>1</th>\n",
       "      <td>[1]</td>\n",
       "      <td>lags_1</td>\n",
       "      <td>{'alpha': 1}</td>\n",
       "      <td>0.031946</td>\n",
       "      <td>1.00</td>\n",
       "    </tr>\n",
       "    <tr>\n",
       "      <th>2</th>\n",
       "      <td>[1]</td>\n",
       "      <td>lags_1</td>\n",
       "      <td>{'alpha': 0.1}</td>\n",
       "      <td>0.032145</td>\n",
       "      <td>0.10</td>\n",
       "    </tr>\n",
       "    <tr>\n",
       "      <th>3</th>\n",
       "      <td>[1]</td>\n",
       "      <td>lags_1</td>\n",
       "      <td>{'alpha': 0.01}</td>\n",
       "      <td>0.032207</td>\n",
       "      <td>0.01</td>\n",
       "    </tr>\n",
       "    <tr>\n",
       "      <th>4</th>\n",
       "      <td>[1, 2, 3, 4, 5, 6, 7]</td>\n",
       "      <td>lags_3</td>\n",
       "      <td>{'alpha': 0.01}</td>\n",
       "      <td>0.041003</td>\n",
       "      <td>0.01</td>\n",
       "    </tr>\n",
       "    <tr>\n",
       "      <th>5</th>\n",
       "      <td>[1, 2, 3, 4, 5, 6, 7]</td>\n",
       "      <td>lags_3</td>\n",
       "      <td>{'alpha': 10}</td>\n",
       "      <td>0.044432</td>\n",
       "      <td>10.00</td>\n",
       "    </tr>\n",
       "    <tr>\n",
       "      <th>6</th>\n",
       "      <td>[1, 7]</td>\n",
       "      <td>lags_2</td>\n",
       "      <td>{'alpha': 1}</td>\n",
       "      <td>0.044449</td>\n",
       "      <td>1.00</td>\n",
       "    </tr>\n",
       "    <tr>\n",
       "      <th>7</th>\n",
       "      <td>[1, 7]</td>\n",
       "      <td>lags_2</td>\n",
       "      <td>{'alpha': 10}</td>\n",
       "      <td>0.044678</td>\n",
       "      <td>10.00</td>\n",
       "    </tr>\n",
       "    <tr>\n",
       "      <th>8</th>\n",
       "      <td>[1, 2, 3, 4, 5, 6, 7]</td>\n",
       "      <td>lags_3</td>\n",
       "      <td>{'alpha': 1}</td>\n",
       "      <td>0.045082</td>\n",
       "      <td>1.00</td>\n",
       "    </tr>\n",
       "    <tr>\n",
       "      <th>9</th>\n",
       "      <td>[1, 7]</td>\n",
       "      <td>lags_2</td>\n",
       "      <td>{'alpha': 0.1}</td>\n",
       "      <td>0.045718</td>\n",
       "      <td>0.10</td>\n",
       "    </tr>\n",
       "    <tr>\n",
       "      <th>10</th>\n",
       "      <td>[1, 7]</td>\n",
       "      <td>lags_2</td>\n",
       "      <td>{'alpha': 0.01}</td>\n",
       "      <td>0.046809</td>\n",
       "      <td>0.01</td>\n",
       "    </tr>\n",
       "    <tr>\n",
       "      <th>11</th>\n",
       "      <td>[1, 2, 3, 4, 5, 6, 7]</td>\n",
       "      <td>lags_3</td>\n",
       "      <td>{'alpha': 0.1}</td>\n",
       "      <td>0.046824</td>\n",
       "      <td>0.10</td>\n",
       "    </tr>\n",
       "  </tbody>\n",
       "</table>\n",
       "</div>"
      ],
      "text/plain": [
       "                     lags lags_label           params  mse_last_value  alpha\n",
       "0                     [1]     lags_1    {'alpha': 10}        0.031840  10.00\n",
       "1                     [1]     lags_1     {'alpha': 1}        0.031946   1.00\n",
       "2                     [1]     lags_1   {'alpha': 0.1}        0.032145   0.10\n",
       "3                     [1]     lags_1  {'alpha': 0.01}        0.032207   0.01\n",
       "4   [1, 2, 3, 4, 5, 6, 7]     lags_3  {'alpha': 0.01}        0.041003   0.01\n",
       "5   [1, 2, 3, 4, 5, 6, 7]     lags_3    {'alpha': 10}        0.044432  10.00\n",
       "6                  [1, 7]     lags_2     {'alpha': 1}        0.044449   1.00\n",
       "7                  [1, 7]     lags_2    {'alpha': 10}        0.044678  10.00\n",
       "8   [1, 2, 3, 4, 5, 6, 7]     lags_3     {'alpha': 1}        0.045082   1.00\n",
       "9                  [1, 7]     lags_2   {'alpha': 0.1}        0.045718   0.10\n",
       "10                 [1, 7]     lags_2  {'alpha': 0.01}        0.046809   0.01\n",
       "11  [1, 2, 3, 4, 5, 6, 7]     lags_3   {'alpha': 0.1}        0.046824   0.10"
      ]
     },
     "execution_count": 122,
     "metadata": {},
     "output_type": "execute_result"
    }
   ],
   "source": [
    "forecaster = ForecasterDirectMultiVariate(\n",
    "    regressor=Ridge(random_state=27),\n",
    "    steps=days_shift,\n",
    "    lags=5,\n",
    ")\n",
    "\n",
    "# Lags used as predictors\n",
    "lags_grid = {\n",
    "    'lags_1': 1,\n",
    "    'lags_2': [1, 7],\n",
    "    'lags_3': range(1, 8)\n",
    "}\n",
    "\n",
    "# Regressor hyperparameters\n",
    "param_grid = {\n",
    "    'alpha': [0.01, 0.1, 1, 10]\n",
    "}\n",
    "\n",
    "# Folds\n",
    "cv = TimeSeriesFold(\n",
    "         steps=days_shift,\n",
    "         initial_train_size=50,\n",
    "         refit=False\n",
    "     )\n",
    "\n",
    "results = grid_search_forecaster(\n",
    "              forecaster=forecaster,\n",
    "              y=y,\n",
    "              param_grid=param_grid,\n",
    "              lags_grid=lags_grid,\n",
    "              cv=cv,\n",
    "              metric=mse_last_value,\n",
    "              return_best=True,\n",
    "              n_jobs='auto',\n",
    "              verbose=False,\n",
    "              show_progress=True\n",
    "          )\n",
    "results"
   ]
  }
 ],
 "metadata": {
  "kernelspec": {
   "display_name": "Python 3 (ipykernel)",
   "language": "python",
   "name": "python3"
  },
  "language_info": {
   "codemirror_mode": {
    "name": "ipython",
    "version": 3
   },
   "file_extension": ".py",
   "mimetype": "text/x-python",
   "name": "python",
   "nbconvert_exporter": "python",
   "pygments_lexer": "ipython3",
   "version": "3.12.9"
  }
 },
 "nbformat": 4,
 "nbformat_minor": 5
}
